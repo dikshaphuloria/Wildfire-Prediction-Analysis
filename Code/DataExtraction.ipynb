{
 "cells": [
  {
   "cell_type": "code",
   "execution_count": 2,
   "metadata": {},
   "outputs": [],
   "source": [
    "from datetime import datetime, timedelta, timezone\n",
    "import matplotlib.pyplot as plt\n",
    "import pandas as pd\n",
    "import numpy as np\n",
    "from meteostat import Point, Hourly, Daily, Stations\n",
    "import sqlite3\n",
    "from astropy.time import Time\n",
    "import requests\n",
    "import time\n",
    "import plotly.express as px\n",
    "import plotly.graph_objects as go\n",
    "from plotly.subplots import make_subplots\n",
    "from sklearn.model_selection import train_test_split\n",
    "from sklearn.ensemble import RandomForestRegressor\n",
    "from sklearn.metrics import mean_absolute_error, mean_squared_error\n",
    "import ee"
   ]
  },
  {
   "cell_type": "code",
   "execution_count": 3,
   "metadata": {},
   "outputs": [
    {
     "name": "stdout",
     "output_type": "stream",
     "text": [
      "Merged rows: 1657\n"
     ]
    }
   ],
   "source": [
    "# Load and preprocess Fire_Data\n",
    "df = pd.read_csv('../Data/Fire_Data.csv')\n",
    "df['incident_name'] = df['incident_name'].str.replace('Fire', '', regex=False).str.strip().str.lower()\n",
    "df['incident_dateonly_created'] = pd.to_datetime(df['incident_dateonly_created'].astype(str).str.split(\"+\").str[0])\n",
    "\n",
    "# Load and preprocess California_Fire_Perimeters_(all)\n",
    "df_cause = pd.read_csv(\"../Data/California_Fire_Perimeters_(all).csv\")\n",
    "df_cause['ALARM_DATE'] = pd.to_datetime(df_cause['ALARM_DATE'].astype(str).str.split(\"+\").str[0])\n",
    "df_cause['FIRE_NAME'] = df_cause['FIRE_NAME'].str.strip().str.lower()\n",
    "\n",
    "# Add a constant key to allow cross join\n",
    "df['merge_key'] = 1\n",
    "df_cause['merge_key'] = 1\n",
    "\n",
    "# Cross join\n",
    "df_cross = pd.merge(df, df_cause, on='merge_key', suffixes=('', '_cause')).drop(columns=['merge_key'])\n",
    "\n",
    "# Filter rows where date difference is within ±1 day\n",
    "df_cross = df_cross[\n",
    "    (df_cross['ALARM_DATE'] >= df_cross['incident_dateonly_created'] - timedelta(days=1)) &\n",
    "    (df_cross['ALARM_DATE'] <= df_cross['incident_dateonly_created'] + timedelta(days=1))\n",
    "]\n",
    "\n",
    "# Drop rows where names are missing\n",
    "df_cross = df_cross.dropna(subset=['incident_name', 'FIRE_NAME'])\n",
    "\n",
    "# Filter rows where one name is contained in the other\n",
    "df_cross = df_cross[\n",
    "    df_cross.apply(\n",
    "        lambda row: row['incident_name'] in row['FIRE_NAME'] or row['FIRE_NAME'] in row['incident_name'],\n",
    "        axis=1\n",
    "    )\n",
    "]\n",
    "\n",
    "# Final merged DataFrame\n",
    "df_final = df_cross.copy()\n",
    "\n",
    "# Display number of matched rows\n",
    "print(f\"Merged rows: {len(df_final)}\")\n"
   ]
  },
  {
   "cell_type": "code",
   "execution_count": 4,
   "metadata": {},
   "outputs": [
    {
     "data": {
      "text/html": [
       "<div>\n",
       "<style scoped>\n",
       "    .dataframe tbody tr th:only-of-type {\n",
       "        vertical-align: middle;\n",
       "    }\n",
       "\n",
       "    .dataframe tbody tr th {\n",
       "        vertical-align: top;\n",
       "    }\n",
       "\n",
       "    .dataframe thead th {\n",
       "        text-align: right;\n",
       "    }\n",
       "</style>\n",
       "<table border=\"1\" class=\"dataframe\">\n",
       "  <thead>\n",
       "    <tr style=\"text-align: right;\">\n",
       "      <th></th>\n",
       "      <th>incident_name</th>\n",
       "      <th>incident_is_final</th>\n",
       "      <th>incident_date_last_update</th>\n",
       "      <th>incident_date_created</th>\n",
       "      <th>incident_administrative_unit</th>\n",
       "      <th>incident_administrative_unit_url</th>\n",
       "      <th>incident_county</th>\n",
       "      <th>incident_location</th>\n",
       "      <th>incident_acres_burned</th>\n",
       "      <th>incident_containment</th>\n",
       "      <th>...</th>\n",
       "      <th>Management Objective</th>\n",
       "      <th>GIS_ACRES</th>\n",
       "      <th>Comments</th>\n",
       "      <th>Complex Name</th>\n",
       "      <th>IRWIN ID</th>\n",
       "      <th>Fire Number (historical use)</th>\n",
       "      <th>Complex ID</th>\n",
       "      <th>DECADES</th>\n",
       "      <th>Shape__Area</th>\n",
       "      <th>Shape__Length</th>\n",
       "    </tr>\n",
       "  </thead>\n",
       "  <tbody>\n",
       "    <tr>\n",
       "      <th>0</th>\n",
       "      <td>bridge</td>\n",
       "      <td>Y</td>\n",
       "      <td>2018-01-09T13:46:00Z</td>\n",
       "      <td>2017-10-31T11:22:00Z</td>\n",
       "      <td>Shasta-Trinity National Forest</td>\n",
       "      <td>NaN</td>\n",
       "      <td>Shasta</td>\n",
       "      <td>I-5 and Turntable Bay, 7 miles NE of Shasta Lake</td>\n",
       "      <td>37.0</td>\n",
       "      <td>100.0</td>\n",
       "      <td>...</td>\n",
       "      <td>1.0</td>\n",
       "      <td>35.51982</td>\n",
       "      <td>Started by burning semi trailer truck carrying...</td>\n",
       "      <td>NaN</td>\n",
       "      <td>{D32AB87C-D4D7-4573-834C-D07F81C69383}</td>\n",
       "      <td>NaN</td>\n",
       "      <td>NaN</td>\n",
       "      <td>2010-2019</td>\n",
       "      <td>2.508758e+05</td>\n",
       "      <td>3192.924039</td>\n",
       "    </tr>\n",
       "    <tr>\n",
       "      <th>1</th>\n",
       "      <td>pala</td>\n",
       "      <td>Y</td>\n",
       "      <td>2020-09-16T14:07:35Z</td>\n",
       "      <td>2009-05-24T14:56:00Z</td>\n",
       "      <td>CAL FIRE San Diego Unit</td>\n",
       "      <td>NaN</td>\n",
       "      <td>San Diego</td>\n",
       "      <td>Hwy 76 and Pala Temecula, northwest of Pala</td>\n",
       "      <td>122.0</td>\n",
       "      <td>100.0</td>\n",
       "      <td>...</td>\n",
       "      <td>1.0</td>\n",
       "      <td>106.11540</td>\n",
       "      <td>NaN</td>\n",
       "      <td>NaN</td>\n",
       "      <td>NaN</td>\n",
       "      <td>NaN</td>\n",
       "      <td>NaN</td>\n",
       "      <td>2000-2009</td>\n",
       "      <td>6.172894e+05</td>\n",
       "      <td>4424.336593</td>\n",
       "    </tr>\n",
       "    <tr>\n",
       "      <th>2</th>\n",
       "      <td>river</td>\n",
       "      <td>Y</td>\n",
       "      <td>2022-10-24T11:39:23Z</td>\n",
       "      <td>2013-02-24T08:16:00Z</td>\n",
       "      <td>CAL FIRE San Bernardino Unit</td>\n",
       "      <td>NaN</td>\n",
       "      <td>Inyo</td>\n",
       "      <td>south of Narrow Gauge Rd &amp; north of Hwy 136, e...</td>\n",
       "      <td>407.0</td>\n",
       "      <td>100.0</td>\n",
       "      <td>...</td>\n",
       "      <td>1.0</td>\n",
       "      <td>406.84150</td>\n",
       "      <td>Lone Pine Area</td>\n",
       "      <td>NaN</td>\n",
       "      <td>NaN</td>\n",
       "      <td>NaN</td>\n",
       "      <td>NaN</td>\n",
       "      <td>2010-2019</td>\n",
       "      <td>2.559475e+06</td>\n",
       "      <td>8138.932864</td>\n",
       "    </tr>\n",
       "    <tr>\n",
       "      <th>3</th>\n",
       "      <td>fawnskin</td>\n",
       "      <td>Y</td>\n",
       "      <td>2013-04-22T09:00:00Z</td>\n",
       "      <td>2013-04-20T17:30:00Z</td>\n",
       "      <td>San Bernardino National Forest</td>\n",
       "      <td>NaN</td>\n",
       "      <td>San Bernardino</td>\n",
       "      <td>west of Delamar Mountain, north of the communi...</td>\n",
       "      <td>30.0</td>\n",
       "      <td>100.0</td>\n",
       "      <td>...</td>\n",
       "      <td>1.0</td>\n",
       "      <td>14.40060</td>\n",
       "      <td>NaN</td>\n",
       "      <td>NaN</td>\n",
       "      <td>NaN</td>\n",
       "      <td>NaN</td>\n",
       "      <td>NaN</td>\n",
       "      <td>2010-2019</td>\n",
       "      <td>8.557668e+04</td>\n",
       "      <td>2180.966397</td>\n",
       "    </tr>\n",
       "    <tr>\n",
       "      <th>4</th>\n",
       "      <td>gold</td>\n",
       "      <td>Y</td>\n",
       "      <td>2013-05-01T07:00:00Z</td>\n",
       "      <td>2013-04-30T12:59:00Z</td>\n",
       "      <td>CAL FIRE Madera-Mariposa-Merced Unit</td>\n",
       "      <td>NaN</td>\n",
       "      <td>Madera</td>\n",
       "      <td>Between Road 210 and Road 200 near Fine Gold C...</td>\n",
       "      <td>274.0</td>\n",
       "      <td>100.0</td>\n",
       "      <td>...</td>\n",
       "      <td>1.0</td>\n",
       "      <td>183.64240</td>\n",
       "      <td>NaN</td>\n",
       "      <td>NaN</td>\n",
       "      <td>NaN</td>\n",
       "      <td>NaN</td>\n",
       "      <td>NaN</td>\n",
       "      <td>2010-2019</td>\n",
       "      <td>1.170901e+06</td>\n",
       "      <td>4834.204082</td>\n",
       "    </tr>\n",
       "  </tbody>\n",
       "</table>\n",
       "<p>5 rows × 44 columns</p>\n",
       "</div>"
      ],
      "text/plain": [
       "  incident_name incident_is_final incident_date_last_update  \\\n",
       "0        bridge                 Y      2018-01-09T13:46:00Z   \n",
       "1          pala                 Y      2020-09-16T14:07:35Z   \n",
       "2         river                 Y      2022-10-24T11:39:23Z   \n",
       "3      fawnskin                 Y      2013-04-22T09:00:00Z   \n",
       "4          gold                 Y      2013-05-01T07:00:00Z   \n",
       "\n",
       "  incident_date_created          incident_administrative_unit  \\\n",
       "0  2017-10-31T11:22:00Z       Shasta-Trinity National Forest    \n",
       "1  2009-05-24T14:56:00Z               CAL FIRE San Diego Unit   \n",
       "2  2013-02-24T08:16:00Z          CAL FIRE San Bernardino Unit   \n",
       "3  2013-04-20T17:30:00Z        San Bernardino National Forest   \n",
       "4  2013-04-30T12:59:00Z  CAL FIRE Madera-Mariposa-Merced Unit   \n",
       "\n",
       "   incident_administrative_unit_url incident_county  \\\n",
       "0                               NaN          Shasta   \n",
       "1                               NaN       San Diego   \n",
       "2                               NaN            Inyo   \n",
       "3                               NaN  San Bernardino   \n",
       "4                               NaN          Madera   \n",
       "\n",
       "                                   incident_location  incident_acres_burned  \\\n",
       "0  I-5 and Turntable Bay, 7 miles NE of Shasta Lake                    37.0   \n",
       "1        Hwy 76 and Pala Temecula, northwest of Pala                  122.0   \n",
       "2  south of Narrow Gauge Rd & north of Hwy 136, e...                  407.0   \n",
       "3  west of Delamar Mountain, north of the communi...                   30.0   \n",
       "4  Between Road 210 and Road 200 near Fine Gold C...                  274.0   \n",
       "\n",
       "   incident_containment  ... Management Objective  GIS_ACRES  \\\n",
       "0                 100.0  ...                  1.0   35.51982   \n",
       "1                 100.0  ...                  1.0  106.11540   \n",
       "2                 100.0  ...                  1.0  406.84150   \n",
       "3                 100.0  ...                  1.0   14.40060   \n",
       "4                 100.0  ...                  1.0  183.64240   \n",
       "\n",
       "                                            Comments  Complex Name  \\\n",
       "0  Started by burning semi trailer truck carrying...           NaN   \n",
       "1                                                NaN           NaN   \n",
       "2                                     Lone Pine Area           NaN   \n",
       "3                                                NaN           NaN   \n",
       "4                                                NaN           NaN   \n",
       "\n",
       "                                 IRWIN ID Fire Number (historical use)  \\\n",
       "0  {D32AB87C-D4D7-4573-834C-D07F81C69383}                          NaN   \n",
       "1                                     NaN                          NaN   \n",
       "2                                     NaN                          NaN   \n",
       "3                                     NaN                          NaN   \n",
       "4                                     NaN                          NaN   \n",
       "\n",
       "  Complex ID    DECADES   Shape__Area Shape__Length  \n",
       "0        NaN  2010-2019  2.508758e+05   3192.924039  \n",
       "1        NaN  2000-2009  6.172894e+05   4424.336593  \n",
       "2        NaN  2010-2019  2.559475e+06   8138.932864  \n",
       "3        NaN  2010-2019  8.557668e+04   2180.966397  \n",
       "4        NaN  2010-2019  1.170901e+06   4834.204082  \n",
       "\n",
       "[5 rows x 44 columns]"
      ]
     },
     "execution_count": 4,
     "metadata": {},
     "output_type": "execute_result"
    }
   ],
   "source": [
    "df_final = df_final.reset_index()\n",
    "df_final = df_final.drop(columns=\"index\")\n",
    "df_final.head()"
   ]
  },
  {
   "cell_type": "code",
   "execution_count": 4,
   "metadata": {},
   "outputs": [],
   "source": [
    "#Retrieve Weather Data using open-meteo api\n",
    "import time\n",
    "url = \"https://archive-api.open-meteo.com/v1/archive\"\n",
    "\n",
    "df = df_final\n",
    "\n",
    "for index in df.index:\n",
    "    try:\n",
    "        lat = df.loc[index,'incident_latitude'] # Latitude\n",
    "        long = df.loc[index,'incident_longitude'] # Longitude\n",
    "        start = datetime.strptime(df.loc[index,'incident_date_created'].split(\"T\")[0], \"%Y-%m-%d\") # Start date\n",
    "        try :\n",
    "            end = datetime.strptime(df.loc[index,'incident_date_extinguished'].split(\"T\")[0], \"%Y-%m-%d\")\n",
    "        except:\n",
    "            end= datetime.now(timezone.utc)\n",
    "\n",
    "        params = {\n",
    "            \"latitude\": lat,  \n",
    "            \"longitude\": long, \n",
    "            \"start_date\": start.strftime('%Y-%m-%d'), \n",
    "            \"end_date\": end.strftime('%Y-%m-%d'),  \n",
    "            \"hourly\": [ \"precipitation\"],  # Get hourly temperature and precipitation \"temperature_2m\", , \"windspeed_10m\"\n",
    "            \"timezone\": \"UTC\"  \n",
    "        }\n",
    "        time.sleep(1)\n",
    "        # Make API request\n",
    "        response = requests.get(url, params=params)\n",
    "\n",
    "        # Convert response to JSON\n",
    "        data = response.json()\n",
    "\n",
    "        df.loc[index,'min_temp'] = min(data[\"hourly\"][\"temperature_2m\"])\n",
    "        df.loc[index,'max_temp'] = max(data[\"hourly\"][\"temperature_2m\"])\n",
    "        df.loc[index,'avg_temp'] = np.mean(data[\"hourly\"][\"temperature_2m\"]) ## Unit: °C\n",
    "        df.loc[index,'avg_windspeed'] = np.mean(data[\"hourly\"][\"windspeed_10m\"]) ## Unit: km/h\n",
    "        df.loc[index,'avg_precipitation'] = np.mean(data[\"hourly\"][\"precipitation\"]) ## Unit: mm\n",
    "    except:\n",
    "        print(f'The index that failed is {index}')"
   ]
  },
  {
   "cell_type": "code",
   "execution_count": 78,
   "metadata": {},
   "outputs": [],
   "source": [
    "#Add new column for the year the fire started\n",
    "df['Year_Started'] = pd.to_datetime(df['incident_dateonly_created']).dt.year\n",
    "df.loc[df['incident_acres_burned'].isna(),\"Year_Started\"].value_counts()\n",
    "#Remove columns for which the values are missing\n",
    "df.dropna(subset=['incident_acres_burned', 'min_temp', 'max_temp', 'avg_temp', 'avg_windspeed', 'avg_precipitation'], inplace=True)"
   ]
  },
  {
   "cell_type": "code",
   "execution_count": 6,
   "metadata": {},
   "outputs": [
    {
     "data": {
      "text/html": [
       "<div>\n",
       "<style scoped>\n",
       "    .dataframe tbody tr th:only-of-type {\n",
       "        vertical-align: middle;\n",
       "    }\n",
       "\n",
       "    .dataframe tbody tr th {\n",
       "        vertical-align: top;\n",
       "    }\n",
       "\n",
       "    .dataframe thead th {\n",
       "        text-align: right;\n",
       "    }\n",
       "</style>\n",
       "<table border=\"1\" class=\"dataframe\">\n",
       "  <thead>\n",
       "    <tr style=\"text-align: right;\">\n",
       "      <th></th>\n",
       "      <th>incident_id</th>\n",
       "      <th>incident_url</th>\n",
       "      <th>incident_type</th>\n",
       "      <th>incident_name</th>\n",
       "      <th>incident_date_created</th>\n",
       "      <th>incident_date_extinguished</th>\n",
       "      <th>incident_date_last_update</th>\n",
       "      <th>incident_dateonly_extinguished</th>\n",
       "      <th>incident_dateonly_created</th>\n",
       "      <th>incident_is_final</th>\n",
       "      <th>...</th>\n",
       "      <th>ALARM_DATE</th>\n",
       "      <th>GIS_ACRES</th>\n",
       "      <th>CAUSE</th>\n",
       "      <th>Year_Started</th>\n",
       "      <th>ndvi</th>\n",
       "      <th>avg_pdsi</th>\n",
       "      <th>avg_spi30d</th>\n",
       "      <th>fuel_type</th>\n",
       "      <th>cause_description</th>\n",
       "      <th>ndmi</th>\n",
       "    </tr>\n",
       "  </thead>\n",
       "  <tbody>\n",
       "    <tr>\n",
       "      <th>0</th>\n",
       "      <td>2ca11d45-8139-4c16-8af0-880d99b21e82</td>\n",
       "      <td>https://www.fire.ca.gov/incidents/2017/10/31/b...</td>\n",
       "      <td>NaN</td>\n",
       "      <td>bridge</td>\n",
       "      <td>2017-10-31 11:22:00+00:00</td>\n",
       "      <td>2018-01-09 13:46:00+00:00</td>\n",
       "      <td>2018-01-09T13:46:00Z</td>\n",
       "      <td>1/9/18</td>\n",
       "      <td>10/31/17</td>\n",
       "      <td>Y</td>\n",
       "      <td>...</td>\n",
       "      <td>10/31/17</td>\n",
       "      <td>35.51982</td>\n",
       "      <td>2</td>\n",
       "      <td>2017</td>\n",
       "      <td>0.871471</td>\n",
       "      <td>2.720000</td>\n",
       "      <td>0.951667</td>\n",
       "      <td>Forest</td>\n",
       "      <td>Equipment/vehicles</td>\n",
       "      <td>0.214126</td>\n",
       "    </tr>\n",
       "    <tr>\n",
       "      <th>1</th>\n",
       "      <td>8f61f461-552d-4538-b186-35ab030da416</td>\n",
       "      <td>https://www.fire.ca.gov/incidents/2009/5/24/pa...</td>\n",
       "      <td>Wildfire</td>\n",
       "      <td>pala</td>\n",
       "      <td>2009-05-24 14:56:00+00:00</td>\n",
       "      <td>2009-05-25 00:00:00+00:00</td>\n",
       "      <td>2020-09-16T14:07:35Z</td>\n",
       "      <td>5/25/09</td>\n",
       "      <td>5/24/09</td>\n",
       "      <td>Y</td>\n",
       "      <td>...</td>\n",
       "      <td>5/24/09</td>\n",
       "      <td>106.11540</td>\n",
       "      <td>14</td>\n",
       "      <td>2009</td>\n",
       "      <td>NaN</td>\n",
       "      <td>NaN</td>\n",
       "      <td>NaN</td>\n",
       "      <td>NaN</td>\n",
       "      <td>Unknown (Human)</td>\n",
       "      <td>0.005950</td>\n",
       "    </tr>\n",
       "    <tr>\n",
       "      <th>2</th>\n",
       "      <td>094719ba-a47b-4abb-9ec5-a506b2b9fd23</td>\n",
       "      <td>https://www.fire.ca.gov/incidents/2013/2/24/ri...</td>\n",
       "      <td>NaN</td>\n",
       "      <td>river</td>\n",
       "      <td>2013-02-24 08:16:00+00:00</td>\n",
       "      <td>2013-02-28 20:00:00+00:00</td>\n",
       "      <td>2022-10-24T11:39:23Z</td>\n",
       "      <td>2/28/13</td>\n",
       "      <td>2/24/13</td>\n",
       "      <td>Y</td>\n",
       "      <td>...</td>\n",
       "      <td>2/24/13</td>\n",
       "      <td>406.84150</td>\n",
       "      <td>14</td>\n",
       "      <td>2013</td>\n",
       "      <td>0.088693</td>\n",
       "      <td>-2.080000</td>\n",
       "      <td>-0.218333</td>\n",
       "      <td>Shrubland</td>\n",
       "      <td>Unknown (Human)</td>\n",
       "      <td>-0.038049</td>\n",
       "    </tr>\n",
       "    <tr>\n",
       "      <th>3</th>\n",
       "      <td>357ffc13-bef9-48eb-810f-c5de851972eb</td>\n",
       "      <td>https://www.fire.ca.gov/incidents/2013/4/30/go...</td>\n",
       "      <td>NaN</td>\n",
       "      <td>gold</td>\n",
       "      <td>2013-04-30 12:59:00+00:00</td>\n",
       "      <td>2013-05-01 07:00:00+00:00</td>\n",
       "      <td>2013-05-01T07:00:00Z</td>\n",
       "      <td>5/1/13</td>\n",
       "      <td>4/30/13</td>\n",
       "      <td>Y</td>\n",
       "      <td>...</td>\n",
       "      <td>4/30/13</td>\n",
       "      <td>183.64240</td>\n",
       "      <td>14</td>\n",
       "      <td>2013</td>\n",
       "      <td>0.021794</td>\n",
       "      <td>-0.891667</td>\n",
       "      <td>-0.225000</td>\n",
       "      <td>Grassland</td>\n",
       "      <td>Unknown (Human)</td>\n",
       "      <td>0.048903</td>\n",
       "    </tr>\n",
       "    <tr>\n",
       "      <th>4</th>\n",
       "      <td>53122f0f-fefc-4dbf-b2d8-566b42ced66d</td>\n",
       "      <td>https://www.fire.ca.gov/incidents/2013/5/1/pan...</td>\n",
       "      <td>NaN</td>\n",
       "      <td>panther</td>\n",
       "      <td>2013-05-01 09:12:00+00:00</td>\n",
       "      <td>2013-05-09 09:00:00+00:00</td>\n",
       "      <td>2022-10-24T11:40:03Z</td>\n",
       "      <td>5/9/13</td>\n",
       "      <td>5/1/13</td>\n",
       "      <td>Y</td>\n",
       "      <td>...</td>\n",
       "      <td>5/1/13</td>\n",
       "      <td>6896.19800</td>\n",
       "      <td>9</td>\n",
       "      <td>2013</td>\n",
       "      <td>0.136799</td>\n",
       "      <td>1.003333</td>\n",
       "      <td>-0.231667</td>\n",
       "      <td>Forest</td>\n",
       "      <td>Miscellaneous/other</td>\n",
       "      <td>0.109611</td>\n",
       "    </tr>\n",
       "  </tbody>\n",
       "</table>\n",
       "<p>5 rows × 47 columns</p>\n",
       "</div>"
      ],
      "text/plain": [
       "                            incident_id  \\\n",
       "0  2ca11d45-8139-4c16-8af0-880d99b21e82   \n",
       "1  8f61f461-552d-4538-b186-35ab030da416   \n",
       "2  094719ba-a47b-4abb-9ec5-a506b2b9fd23   \n",
       "3  357ffc13-bef9-48eb-810f-c5de851972eb   \n",
       "4  53122f0f-fefc-4dbf-b2d8-566b42ced66d   \n",
       "\n",
       "                                        incident_url incident_type  \\\n",
       "0  https://www.fire.ca.gov/incidents/2017/10/31/b...           NaN   \n",
       "1  https://www.fire.ca.gov/incidents/2009/5/24/pa...      Wildfire   \n",
       "2  https://www.fire.ca.gov/incidents/2013/2/24/ri...           NaN   \n",
       "3  https://www.fire.ca.gov/incidents/2013/4/30/go...           NaN   \n",
       "4  https://www.fire.ca.gov/incidents/2013/5/1/pan...           NaN   \n",
       "\n",
       "  incident_name      incident_date_created incident_date_extinguished  \\\n",
       "0        bridge  2017-10-31 11:22:00+00:00  2018-01-09 13:46:00+00:00   \n",
       "1          pala  2009-05-24 14:56:00+00:00  2009-05-25 00:00:00+00:00   \n",
       "2         river  2013-02-24 08:16:00+00:00  2013-02-28 20:00:00+00:00   \n",
       "3          gold  2013-04-30 12:59:00+00:00  2013-05-01 07:00:00+00:00   \n",
       "4       panther  2013-05-01 09:12:00+00:00  2013-05-09 09:00:00+00:00   \n",
       "\n",
       "  incident_date_last_update incident_dateonly_extinguished  \\\n",
       "0      2018-01-09T13:46:00Z                         1/9/18   \n",
       "1      2020-09-16T14:07:35Z                        5/25/09   \n",
       "2      2022-10-24T11:39:23Z                        2/28/13   \n",
       "3      2013-05-01T07:00:00Z                         5/1/13   \n",
       "4      2022-10-24T11:40:03Z                         5/9/13   \n",
       "\n",
       "  incident_dateonly_created incident_is_final  ... ALARM_DATE   GIS_ACRES  \\\n",
       "0                  10/31/17                 Y  ...   10/31/17    35.51982   \n",
       "1                   5/24/09                 Y  ...    5/24/09   106.11540   \n",
       "2                   2/24/13                 Y  ...    2/24/13   406.84150   \n",
       "3                   4/30/13                 Y  ...    4/30/13   183.64240   \n",
       "4                    5/1/13                 Y  ...     5/1/13  6896.19800   \n",
       "\n",
       "   CAUSE Year_Started      ndvi  avg_pdsi  avg_spi30d  fuel_type  \\\n",
       "0      2         2017  0.871471  2.720000    0.951667     Forest   \n",
       "1     14         2009       NaN       NaN         NaN        NaN   \n",
       "2     14         2013  0.088693 -2.080000   -0.218333  Shrubland   \n",
       "3     14         2013  0.021794 -0.891667   -0.225000  Grassland   \n",
       "4      9         2013  0.136799  1.003333   -0.231667     Forest   \n",
       "\n",
       "     cause_description      ndmi  \n",
       "0   Equipment/vehicles  0.214126  \n",
       "1      Unknown (Human)  0.005950  \n",
       "2      Unknown (Human) -0.038049  \n",
       "3      Unknown (Human)  0.048903  \n",
       "4  Miscellaneous/other  0.109611  \n",
       "\n",
       "[5 rows x 47 columns]"
      ]
     },
     "execution_count": 6,
     "metadata": {},
     "output_type": "execute_result"
    }
   ],
   "source": [
    "data = pd.read_csv(\"../Data/WildFire_DataSet.csv\")\n",
    "data.head()"
   ]
  },
  {
   "cell_type": "code",
   "execution_count": 83,
   "metadata": {},
   "outputs": [
    {
     "data": {
      "application/vnd.plotly.v1+json": {
       "config": {
        "plotlyServerURL": "https://plot.ly"
       },
       "data": [
        {
         "mode": "markers",
         "name": "Avg Wind",
         "type": "scatter",
         "x": {
          "bdata": "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",
          "dtype": "f8"
         },
         "xaxis": "x",
         "y": {
          "bdata": "AAAAAACAQkAAAAAAAIBeQAAAAAAAcHlAAAAAAAAgcUAAAAAAAPC6QAAAAAAAwFJAAAAAAABAX0AAAAAAABinQAAAAAAAIHZAAAAAAAAga0AAAAAAAMBSQAAAAAAAUIRAAAAAAABAhkAAAAAAAIBBQAAAAAAAgFZAAAAAAADwckAAAAAAAABZQAAAAAAAAFlAAAAAAAC0pEAAAAAAAABfQAAAAAAAiKNAAAAAAAAAn0AAAAAAAKBiQAAAAAAAQH9AAAAAAACgckAAAAAAgJDdQAAAAAAAAEVAAAAAAACwmkAAAAAAAKBtQAAAAAAAAH5AAAAAAAAAR0AAAAAAAMBiQAAAAAAAADlAAAAAAACwgEAAAAAAAEBaQAAAAAAAwH5AAAAAAACPu0AAAAAAAEBVQAAAAAAAQFJAAAAAAACARUAAAAAAAOCBQAAAAADA4tpAAAAAAAB01kAAAAAAAABXQAAAAAAAwGJAAAAAAAAATkAAAAAAACCDQAAAAAAAgEZAAAAAAADAY0AAAAAAAABEQAAAAAAAuJBAAAAAAACclUAAAAAAAABOQAAAAAAAAENAAAAAAADR00AAAAAAgGvIQAAAAAAAAElAAAAAAABgbkAAAAAAAMzaQAAAAAAAgFFAAAAAAAAAR0AAAAAAAIBbQAAAAAAAib9AAAAAAADQiEAAAAAAAIBoQAAAAAAAAGlAAAAAAIBSxkAAAAAAAEBYQAAAAAAATqhAAAAAAADAYEAAAAAAAMBwQAAAAAAAQFhAAAAAAAAASkAAAAAAAABUQAAAAAAQaQ9BAAAAAABwcEAAAAAAAIBXQAAAAAAAgFhAAAAAAACAd0AAAAAAAOBjQAAAAAAAeKFAAAAAAAAQc0AAAAAAAIBJQAAAAAAAAF5AAAAAAADAZ0AAAAAAAABQQAAAAAAAYqtAAAAAAAAAN0AAAAAAAAiLQAAAAAAAgJ5AAAAAAADQdEAAAAAAAIBaQAAAAAAAQF9AAAAAAAAAeUAAAAAAAEBcQAAAAAAAvqBAAAAAAAAAPUAAAAAAADCYQAAAAAAAwFJAAAAAAADAg0AAAAAAAMB3QAAAAAAALJ9AAAAAAADAgkAAAAAAAABEQAAAAAAAQGBAAAAAAABurkAAAAAAAMywQAAAAACAushAAAAAAABYuUAAAAAAAPSWQAAAAAAA9JZAAAAAAAD0lkAAAAAAAAAuQAAAAAAAIGtAAAAAAADAUkAAAAAAAABDQAAAAAAAQJpAAAAAAABn40AAAAAAgLDJQAAAAADAPOFAAAAAAMA84UAAAAAAAKjfQAAAAAAAIINAAAAAAABAWUAAAAAAAAA0QAAAAAAAwGdAAAAAAAAgcUAAAAAAAJqvQAAAAAAA0HxAAAAAAAB8lUAAAAAAAEBqQAAAAAAAcHNAAAAAAFDb90AAAAAAAABpQAAAAAAAQI5AAAAAAAAAdEAAAAAAACCAQAAAAAAAgFdAAAAAAABkkEAAAAAAAIBLQAAAAAAAYGVAAAAAAMCf3kAAAAAAAMBjQAAAAAAAwIxAAAAAAADgYEAAAAAAAAAAAAAAAAAA8HlAAAAAAAAAWUAAAAAAAEBlQAAAAAAAADdAAAAAAADAV0AAAAAAAAA1QAAAAAAAADlAAAAAAACasEAAAAAAAABpQAAAAAAAADlAAAAAAADgekAAAAAAAAA4QAAAAAAAc79AAAAAAAAAOkAAAAAAAMBSQAAAAAAAADlAAAAAAAAAokAAAAAAAEa2QAAAAAAAADBAAAAAAABEu0AAAAAAQADxQAAAAAAAwFJAAAAAAACAakAAAAAAAIBpQAAAAAAAQH9AAAAAAAD/skAAAAAAAMBSQAAAAAAAAEpAAAAAAAClxEAAAAAAAIBbQAAAAACAh9hAAAAAAAAco0AAAAAAAEBiQAAAAAAARKZAAAAAAAAANkAAAAAAAOBqQAAAAAAAgEtAAAAAAAAAYEAAAAAAAAiFQAAAAAAAAFJAAAAAAAAAW0AAAAAAAIBBQAAAAAAAQGVAAAAAAABAkEAAAAAAOIICQQAAAAAAsJVAAAAAAAAASUAAAAAAAJCFQAAAAAAAADVAAAAAAAD4kEAAAAAAAMBXQAAAAAAAAAAAAAAAAABAVUAAAAAAAEiuQAAAAAAAgGNAAAAAAABgcUAAAAAAAMBiQAAAAAAAgGBAAAAAAAAgZUAAAAAAAIBRQAAAAAAAAAAAAAAAAAAAXEAAAAAAAIBVQAAAAAAAgEBAAAAAAACARUAAAAAAAABWQAAAAAAAAD5AAAAAAAAAQEAAAAAAALCjQAAAAAAAAAAAAAAAAABAakAAAAAAALm9QAAAAAAAgFFAAAAAAAAAVEAAAAAAAMBUQAAAAAAAWKZAAAAAAAAyvUAAAAAAAFBxQAAAAABgcudAAAAAAAAASkAAAAAAAHiTQAAAAAAAgEdAAAAAAADgakAAAAAAAA22QAAAAAAAQHdAAAAAAACAZ0AAAAAAADCRQAAAAAAA8HJAAAAAAAAAfUAAAAAAAOSbQAAAAAAAAKJAAAAAAAAAVkAAAAAAAACnQAAAAAAAAD5AAAAAAABgc0AAAAAAACBiQAAAAAAAwFlAAAAAAABQdUAAAAAAAIBBQAAAAAAAAFVAAAAAAACga0AAAAAAAMBeQAAAAAAAwF5AAAAAAAAAWUAAAAAAAEBRQAAAAAAAADpAAAAAAACCoUAAAAAAAIBMQAAAAAAAgExAAAAAAAAAN0AAAAAAAABZQAAAAAD4IABBAAAAAADAYkAAAAAAAAA0QAAAAAAAAIlAAAAAAAAASUAAAAAAAABDQAAAAAAAAElAAAAAAAAAPEAAAAAAAIBcQAAAAAAAAFRAAAAAAABjtkAAAAAAAEBVQAAAAAAArr9AAAAAAACARkAAAAAAAABCQAAAAAAAirtAAAAAAEC24UAAAAAAYJPmQAAAAAAAsq5AAAAAAICi3EAAAAAAAABEQAAAAAAAwGNAAAAAAABQeEAAAAAAAABCQAAAAABgieBAAAAAAAAepEAAAAAAAABWQAAAAAAAsHhAAAAAAAAwhkAAAAAAAMB3QAAAAAAAwIJAAAAAAAAANEAAAAAAAABAQAAAAAAAEHRAAAAAAADAYkAAAAAAAIBHQAAAAAAAQ7VAAAAAAABAYEAAAAAAAMByQAAAAAAA4JBAAAAAAAAAWUAAAAAAACyYQAAAAAAAAG9AAAAAAAB6sUAAAAAAAGigQAAAAAAAAGZAAAAAAAAAPEAAAAAAANiyQAAAAAAAACRAAAAAAAD7sEAAAAAAAAA+QAAAAAAAgEZAAAAAAAC0sUAAAAAAAIBfQAAAAAAAwGJAAAAAAAAYlUAAAAAAAAAoQAAAAAAAQGBAAAAAAAAAKEAAAAAAAAA/QAAAAAAAFJtAAAAAAAAAMUAAAAAAAIBEQAAAAAAAADJAAAAAAACIw0AAAAAAAAA0QAAAAAAAEKBAAAAAAAAAMUAAAAAAAKB/QAAAAAAAADVAAAAAAACAQUAAAAAAAABeQAAAAAAAACRAAAAAAAAAMkAAAAAAAAAwQAAAAAAAADpAAAAAAAAAMEAAAAAAAABFQAAAAAAAADtAAAAAAADAUEAAAAAAAABHQAAAAAAAMHVAAAAAAAAALEAAAAAAACSWQAAAAAAAAFNAAAAAAAAAQ0AAAAAAAMBiQAAAAAAAwGBAAAAAAACQikAAAAAAAABOQAAAAAAAyJdAAAAAAAAATEAAAAAAAIBDQAAAAAAAfJdAAAAAAABAUEAAAAAAAAA1QAAAAAAAUHZAAAAAAADAh0AAAAAAAABCQAAAAAAApbhAAAAAAABomUAAAAAAAABDQAAAAAAAADlAAAAAAADwhEAAAAAAAAA8QAAAAAAAkIFAAAAAAABwgUAAAAAAAAAAAAAAAAAAgEtAAAAAAACAREAAAAAAAAAkQAAAAAAAaJhAAAAAAAAAQUAAAAAAAAAqQAAAAAAAgExAAAAAAAAASUAAAAAAAAAAAAAAAAAAAH9AAAAAAAAAT0AAAAAAAMBWQAAAAAAAADZAAAAAAACQmkAAAAAAwAPcQAAAAAAAAAAAAAAAAAD4pkAAAAAAAIBAQAAAAAAAkbdAAAAAAAAATUAAAAAAgP/RQAAAAAAAQHVAAAAAAABgnEAAAAAAgMLnQAAAAAAAgFFAAAAAAAAASUAAAAAAAMB8QAAAAAAAAHlAAAAAAFBx9EAAAAAAAEBZQAAAAAAAgE1AAAAAAAAAR0AAAAAAACCMQAAAAAAg+vNAAAAAAADEmUAAAAAAAIBRQAAAAAAAQF1AAAAAAAAALkAAAAAAAABEQAAAAAAAADNAAAAAAADskEAAAAAAAIBmQAAAAAAAAE1AAAAAAADioUAAAAAAAABfQAAAAAAA4GBAAAAAAAAAM0AAAAAAANawQAAAAAAAGIVAAAAAAACAR0AAAAAAAAAkQAAAAAAAgGFAAAAAAAAAekAAAAAAANCTQAAAAAAA8HNAAAAAAABAVUAAAAAAAOBvQAAAAAAAADRAAAAAAADAYkAAAAAAAIBDQAAAAAAAQGVAAAAAAAAALkAAAAAAAAA0QAAAAAAAYGNAAAAAAACAbUAAAAAAABiVQAAAAAAAAFlAAAAAAAAAaUAAAAAAAABAQAAAAAAAgFFAAAAAAADAfEAAAAAAAFB0QAAAAAAAACRAAAAAAAAAT0AAAAAAAABJQAAAAAAA4I9AAAAAAADYikAAAAAAAIBUQAAAAAAAgFxAAAAAAABwl0AAAAAAAEBfQAAAAAAAwIJAAAAAAAAAMUAAAAAAABiLQAAAAAAAQGdAAAAAAADuoUAAAAAAAABpQAAAAAAAAD9AAAAAAAAAT0AAAAAAAKBjQAAAAAAAwFtAAAAAAAAAMkAAAAAAAABHQAAAAAAAQFFAAAAAAIDZ4UAAAAAAAGCvQAAAAACAO8hAAAAAAACat0AAAAAAAIBLQAAAAACAbsFAAAAAAACAeEAAAAAAAIBZQAAAAAAAAEFAAAAAAIBV1UAAAAAAAEBgQAAAAAAAVJtAAAAAAACclEAAAAAAABq8QAAAAAAANJBAAAAAAAAAWUAAAAAAALCtQAAAAAAAAF5AAAAAAAAANUAAAAAAAMBTQAAAAAAAAFlAAAAAAABAhUAAAAAAgC7SQAAAAAAAADlAAAAAAAAAQEAAAAAAAIBDQAAAAAAAAAAAAAAAAACAUkAAAAAAAIBFQAAAAAAAgEVAAAAAAAAepEAAAAAAAAAkQAAAAAAAAGlAAAAAAADgYUAAAAAAAABJQAAAAAAAAE1AAAAAAIA0ykAAAAAAAABhQAAAAAAAoG1AAAAAAACgbkAAAAAAAIBLQAAAAAAAADpAAAAAAABAWkAAAAAAAMykQAAAAAAAwHtAAAAAAAAAREAAAAAAAABZQAAAAAAAwFVAAAAAAAAANEAAAAAAAJrAQAAAAAAANelAAAAAAOD44UAAAAAAoMPlQAAAAAAAB7hAAAAAAICCw0AAAAAAAABTQAAAAABg1eFAAAAAAABAYEAAAAAAAPCZQAAAAAAAgEZAAAAAAAAASUAAAAAAAD6hQAAAAAAAqIlAAAAAAADAYkAAAAAAgADCQAAAAAAAEItAAAAAAAAATUAAAAAAQPPQQAAAAAAAcHhAAAAAAAAASUAAAAAAAIBiQAAAAAAAADlAAAAAAAAAM0AAAAAAAAA9QAAAAAAAAElAAAAAAAAAAAAAAAAAAAAqQAAAAAAAobdAAAAAAICBzkAAAAAAlDQRQQAAAAAAgFVAAAAAAAAANUAAAAAAAIBHQAAAAAAAwFhAAAAAAADwr0AAAAAAAGB6QAAAAAAAACxAAAAAAAAsoEAAAAAAALSTQAAAAAAAIHBAAAAAAAAANEAAAAAAAABOQAAAAAAAcJtAAAAAAACkkEAAAAAAAAAAAAAAAAAAwFlAAAAAAAAAKEAAAAAAAIBNQAAAAAAAAFlAAAAAAAAAW0AAAAAAAMBSQAAAAAAAACxAAAAAAADAX0AAAAAAAOBlQAAAAAAAACpAAAAAAACAQUAAAAAAACCVQAAAAAAACIBAAAAAAADAckAAAAAAAABQQAAAAAAAAChAAAAAAACQcEAAAAAAABinQAAAAAAA5KFAAAAAAADgZUAAAAAAAOBqQAAAAAAAAE5AAAAAAABgY0AAAAAAAABOQAAAAAAAMIRAAAAAAADTsUAAAAAAAIBKQAAAAAAAwFxAAAAAAAAAJEAAAAAAAIB0QAAAAAAAps1AAAAAAAAAT0AAAAAAADiaQAAAAAAAYGRAAAAAAIAGx0AAAAAAAMByQAAAAAAAAFNAAAAAAADAfEAAAAAAAPB3QAAAAAAAgE9AAAAAAAAAPkAAAAAAAIBRQAAAAAAAgEBAAAAAAAD59UAAAAAAAIBAQAAAAAAA4GpAAAAAAACAf0AAAAAAAAAkQAAAAAAAwHNAAAAAAACP4kAAAAAAAMiJQAAAAAAAGJVAAAAAAABAXEAAAAAAABCOQAAAAABQqPdAAAAAAAAAT0AAAAAAAAAmQAAAAAAAYHFAAAAAAACGpkAAAAAAAABZQAAAAAAAAFRAAAAAAADAikAAAAAAAABdQAAAAAAAAGxAAAAAAAAATEAAAAAAAAAwQAAAAAAAAEBAAAAAAABAVkAAAAAAAAAsQAAAAAAAADxAAAAAAABAU0AAAAAAALCJQAAAAAAAgEVAAAAAAAAAKkAAAAAAAKBxQAAAAAAAgFtAAAAAAAAASUAAAAAAAAB0QAAAAAAAAEFAAAAAAJgIDEEAAAAAAABgQAAAAAAAAEJAAAAAAACASUAAAAAAAIBDQAAAAAAAADZAAAAAAACoqEAAAAAAbAkZQQAAAAAA4+dAAAAAAEDM4UAAAAAAACB1QAAAAAAA4GlAAAAAAADAkkAAAAAAAOBgQAAAAAAAYI5AAAAAAACASUAAAAAAAAAsQAAAAAAAwFBAAAAAAACAUEAAAAAAALiFQAAAAAAAYqFAAAAAAACY1kAAAAAAACByQAAAAAAAQF1AAAAAAACAXEAAAAAAwIjmQAAAAAAAsJ1AAAAAAAAAJEAAAAAAAHSjQAAAAAAA5KBAAAAAAAAAMEAAAAAAAOCFQAAAAAAAAH9AAAAAAGA740AAAAAAAPB2QAAAAAAAYGNAAAAAAACwj0AAAAAAAMBZQAAAAAAAwGRAAAAAAAAATkAAAAAAAIBlQAAAAAAAAC5AAAAAAABAX0AAAAAA4OnuQAAAAAAAADhAAAAAAACAkUAAAAAAAMBiQAAAAAAAXJtAAAAAAACweUAAAAAAAAA5QAAAAAAAaKpAAAAAAACAdkAAAAAAAIBKQAAAAAAAUHBAAAAAAAAAU0AAAAAAAABAQAAAAAAAAC5AAAAAAADgZEAAAAAAAABNQAAAAAAAMIFAAAAAAAAAMUAAAAAAwLcCQQAAAAAAAE5AAAAAAAAdsUAAAAAAUKv3QAAAAAAAwGJAAAAAAABAZ0AAAAAAAAAkQAAAAAAAgGVAAAAAAACIo0AAAAAAAEBQQAAAAAAAADZAAAAAAAAYikAAAAAAAEBeQAAAAAAAAGJAAAAAAADMkEAAAAAAAAA7QAAAAAAAWKFAAAAAAAAYlUAAAAAAAEBqQAAAAAAAgEVAAAAAAAAAXkAAAAAAAAAuQAAAAAAAADFAAAAAAAAAJEAAAAAAAOBpQAAAAAAAQH9AAAAAAAAAVEAAAAAAAOSjQAAAAAAAgGJAAAAAAAAAPEAAAAAAALBxQAAAAAAAAD5AAAAAAABwcEAAAAAAAJCPQAAAAAAAwGdAAAAAAAAAWUAAAAAAAGBgQAAAAAAAQGlAAAAAAABAVEAAAAAAAAA5QAAAAACAxMtAAAAAAACAcUAAAAAAAAAqQAAAAAAAAFVAAAAAAACAY0AAAAAAAIBXQAAAAAAAADVAAAAAAAAAR0AAAAAAACBsQAAAAAAAgGNAAAAAAAAAVEAAAAAAAIBBQAAAAAAAwIJAAAAAAABgYEAAAAAAAAyjQAAAAAAAADlAAAAAAACAUEAAAAAAAHBxQAAAAAAA4GRAAAAAAABAVUAAAAAAAAAkQAAAAAAAGJ5AAAAAAAAAPEAAAAAAAELBQAAAAAAAAEZAAAAAAACAbkAAAAAAANS0QAAAAAAAAE1AAAAAAACASkAAAAAAAAAuQAAAAAAA4GRAAAAAAACAa0AAAAAAAMBUQAAAAAAAADBAAAAAAAAAJEAAAAAAAABKQAAAAAAAADZAAAAAAABwgEAAAAAAAABFQAAAAACAL8FAAAAAAAAAaUAAAAAAAIBLQAAAAAAAQHpAAAAAAAAgYUAAAAAAAABFQAAAAADg+/JAAAAAAAAAT0AAAAAAAEBYQAAAAAAAgEJAAAAAAAD4hUAAAAAAAEiHQAAAAAAAjqJAAAAAAACgg0AAAAAAAABpQAAAAACAh8NAAAAAAADMo0AAAAAAAGyoQAAAAAAAgFlAAAAAAACATEAAAAAAAGBqQAAAAAAAQGNAAAAAAAAAOkAAAAAAAIBjQAAAAAAAgEJAAAAAAAAgYEAAAAAAAAAuQAAAAAAAgENAAAAAAACgYUAAAAAAALScQAAAAAAAQFVAAAAAAADAbEAAAAAAAABZQAAAAAAAADRAAAAAAADgYkAAAAAAADCRQAAAAAAAwHJAAAAAAABAmkAAAAAAABiJQAAAAAAAAFlAAAAAAACAVkAAAAAAAABEQAAAAAAAsrNAAAAAAACogEAAAAAAANB7QAAAAAAAaIlAAAAAAAAAMkAAAAAAALyWQAAAAAAAwFdAAAAAAABAVkAAAAAAAMBUQAAAAAAAoGRAAAAAAACAW0AAAAAAAEBgQAAAAAAAACpAAAAAAAAga0AAAAAAAEBWQAAAAAAAYGhAAAAAAAAASkAAAAAAAGiQQAAAAAAAwHVAAAAAAAAAM0AAAAAAAJiBQAAAAAAAcHBAAAAAAACAcUAAAAAAACChQAAAAAAAgEBAAAAAAAAAT0AAAAAAAECvQAAAAAAAQIRAAAAAAACgY0AAAAAAAABPQAAAAAAAEHZAAAAAAACJtUAAAAAAANSXQAAAAAAAADlAAAAAAAAAJEAAAAAAAABbQAAAAAAAwFZAAAAAAMD43EAAAAAAADSXQAAAAAAAAEhAAAAAAABAf0AAAAAAAMBdQAAAAAAAaIFAAAAAAACuwkAAAAAAANB0QAAAAACAFdZAAAAAAAAAPkAAAAAAAMBRQAAAAAAAAF5AAAAAAABAYUAAAAAAABB0QAAAAAAAEHRAAAAAAAAsqUAAAAAAACBnQAAAAAAAKIdAAAAAAACAa0AAAAAAACBtQAAAAAAAYIVAAAAAAABAZkAAAAAAAFSfQAAAAAAAAEpAAAAAAADiukAAAAAAAICBQAAAAAAAAGlAAAAAAABQvkAAAAAAACB0QAAAAAAAIGZAAAAAAABAUEAAAAAAQFzeQAAAAAAA4GZAAAAAAAAAgEAAAAAAAIBbQAAAAACg9uZAAAAAAAAAdEAAAAAAALiGQAAAAACQgy9BAAAAAAAIhkAAAAAAADBxQAAAAAAAACxAAAAAANAe9UAAAAAAAABPQAAAAAAAoIlAAAAAAABSpkAAAAAAAIBGQAAAAAAAQbNAAAAAAAAgckAAAAAAAAB5QAAAAAAAACpAAAAAAAA21kAAAAAAgAHQQAAAAAAAMJFAAAAAAAB8lEAAAAAAAIBGQAAAAAAAAElAAAAAAMB58EAAAAAAQILrQAAAAAAAwGxAAAAAAAAASEAAAAAAAAA1QAAAAAAAAC5AAAAAAACATkAAAAAAAFnIQAAAAAAARstAAAAAAABgYEAAAAAAAPyQQAAAAAAAiJ5AAAAAAABAb0AAAAAAAAiLQAAAAAAAAGdAAAAAAAAANEAAAAAAAIBCQAAAAAAAgFVAAAAAAABIi0AAAAAAAIBBQAAAAAAAADlAAAAAAAAAPEAAAAAAAABpQAAAAAAAUIRAAAAAAABAUEAAAAAAAPa0QAAAAAAAAEBAAAAAAAAwgUAAAAAAAIBBQAAAAAAAoHtAAAAAAAAAPUAAAAAAAIBGQAAAAAAAADJAAAAAAADAf0AAAAAAAIBFQAAAAAAAQG9AAAAAAABAj0AAAAAAAABBQAAAAAAAUHVAAAAAAADAYkAAAAAAAAAuQAAAAAAAAFtAAAAAAACgZEAAAAAAAICBQAAAAAAAAIlAAAAAAADEk0AAAAAAAABIQAAAAAAAGIBAAAAAAACAgkAAAAAAAMiHQAAAAAAAgEpAAAAAAAAARUAAAAAAACCCQAAAAAAAIGJAAAAAAADgdUAAAAAAAMBgQAAAAAAAgEJAAAAAAAAAJkAAAAAAAIBrQAAAAAAAAJ9AAAAAAAAAU0AAAAAAAIBBQAAAAAAAqsRAAAAAAACAXUAAAAAAALrIQAAAAAAAAHhAAAAAAAAgi0AAAAAAAMBSQAAAAAAAmI9AAAAAAAAAVEAAAAAAAIBbQAAAAAAAgFVAAAAAAAAAYEAAAAAAANzCQAAAAAAAUHZAAAAAAAAqp0AAAAAAAIBFQAAAAAAAoJRAAAAAANDB8EAAAAAAAIBFQAAAAAAAgEtAAAAAAABkoEAAAAAAAGSgQAAAAAAAgEZAAAAAAABgZUAAAAAA0PH9QAAAAAAAQHVAAAAAAADHAUEAAAAAAABJQAAAAAAAAElAAAAAAAAATkAAAAAAAHakQAAAAAAAAGdAAAAAAABwckAAAAAAAPiDQAAAAAAAQIVAAAAAAAAAZEAAAAAAAABZQAAAAAAAAElAAAAAAABMlkAAAAAAAIBOQAAAAAAA6qJAAAAAAAAAR0AAAAAAALB5QAAAAAAAAEtAAAAAAACAUUAAAAAAAAB9QAAAAAAAEHBAAAAAAADBwEAAAAAAAABUQAAAAAAA8HtAAAAAAACAYEAAAAAAgJLQQAAAAAAAAGlAAAAAAAAosEAAAAAAAAA1QAAAAAAAAF5AAAAAAABAXEAAAAAAAAAkQAAAAAAAAEJAAAAAAAAASEAAAAAAAPB6QAAAAAAA4LZAAAAAAADQgUAAAAAAAABCQAAAAAAAwFdAAAAAAAAAWUAAAAAAACiAQAAAAAAACItAAAAAAABAUEAAAAAAAIiCQAAAAAAAgFFAAAAAAAAANEAAAAAAAIijQAAAAAAAQIFAAAAAAADQdUAAAAAAAIBWQAAAAAAAgE9AAAAAAABAjEAAAAAAAABKQAAAAAAAADRAAAAAAAAAPkAAAAAAABazQAAAAAAAgEJAAAAAAAAAc0AAAAAAAABOQAAAAAAAAENAAAAAAAAAWUAAAAAAAIBFQAAAAAAAgFRAAAAAAAAAMUAAAAAAAEBeQAAAAAAAAFBAAAAAAAAAWkAAAAAAAIBDQAAAAAAAADxAAAAAAAAAP0AAAAAAAIBPQAAAAAAAwF9AAAAAAAAAQUAAAAAAAAAsQAAAAAAAQG9AAAAAAADL0kAAAAAAAFB0QAAAAAAAAE1AAAAAAACASkAAAAAAAABGQAAAAAAAADlAAAAAAAAAOkAAAAAAAEBcQAAAAAAAWLRAAAAAAADGrkAAAAAAAAA+QAAAAAAAACZAAAAAAADckEAAAAAAAAAwQAAAAAAAmIlAAAAAAACQckAAAAAAANO2QAAAAAAAAGRAAAAAAAAASUAAAAAAAMBfQAAAAAAAIHVAAAAAAADAXkAAAAAAAABbQAAAAAAAQFBAAAAAAAAAkUAAAAAAAMBZQAAAAAAAADhAAAAAAAAAOUAAAAAAAEBaQAAAAAAAUJBAAAAAAABweEAAAAAAAEBaQAAAAACAUcBAAAAAAAAAdUAAAAAAAAAuQAAAAAAAQHtAAAAAAACAckAAAAAAAIBRQAAAAAAAUHpAAAAAAABAUEAAAAAAAABZQAAAAAAALJRAAAAAAADAV0AAAAAAAABWQAAAAAAAbLRAAAAAAAAAZ0AAAAAAAJiAQAAAAAAAAFFAAAAAAAAASkAAAAAAALiFQAAAAAAAIH1AAAAAAABYtUAAAAAAAABAQAAAAAAAgEtAAAAAAABgbkAAAAAAAAA4QAAAAAAAbqNAAAAAAABgakAAAAAAAIBDQAAAAAAAACpAAAAAAAA2pUAAAAAAAKBmQAAAAAAA1cFA",
          "dtype": "f8"
         },
         "yaxis": "y"
        },
        {
         "mode": "markers",
         "name": "Avg Temp",
         "type": "scatter",
         "x": {
          "bdata": "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",
          "dtype": "f8"
         },
         "xaxis": "x2",
         "y": {
          "bdata": "AAAAAACAQkAAAAAAAIBeQAAAAAAAcHlAAAAAAAAgcUAAAAAAAPC6QAAAAAAAwFJAAAAAAABAX0AAAAAAABinQAAAAAAAIHZAAAAAAAAga0AAAAAAAMBSQAAAAAAAUIRAAAAAAABAhkAAAAAAAIBBQAAAAAAAgFZAAAAAAADwckAAAAAAAABZQAAAAAAAAFlAAAAAAAC0pEAAAAAAAABfQAAAAAAAiKNAAAAAAAAAn0AAAAAAAKBiQAAAAAAAQH9AAAAAAACgckAAAAAAgJDdQAAAAAAAAEVAAAAAAACwmkAAAAAAAKBtQAAAAAAAAH5AAAAAAAAAR0AAAAAAAMBiQAAAAAAAADlAAAAAAACwgEAAAAAAAEBaQAAAAAAAwH5AAAAAAACPu0AAAAAAAEBVQAAAAAAAQFJAAAAAAACARUAAAAAAAOCBQAAAAADA4tpAAAAAAAB01kAAAAAAAABXQAAAAAAAwGJAAAAAAAAATkAAAAAAACCDQAAAAAAAgEZAAAAAAADAY0AAAAAAAABEQAAAAAAAuJBAAAAAAACclUAAAAAAAABOQAAAAAAAAENAAAAAAADR00AAAAAAgGvIQAAAAAAAAElAAAAAAABgbkAAAAAAAMzaQAAAAAAAgFFAAAAAAAAAR0AAAAAAAIBbQAAAAAAAib9AAAAAAADQiEAAAAAAAIBoQAAAAAAAAGlAAAAAAIBSxkAAAAAAAEBYQAAAAAAATqhAAAAAAADAYEAAAAAAAMBwQAAAAAAAQFhAAAAAAAAASkAAAAAAAABUQAAAAAAQaQ9BAAAAAABwcEAAAAAAAIBXQAAAAAAAgFhAAAAAAACAd0AAAAAAAOBjQAAAAAAAeKFAAAAAAAAQc0AAAAAAAIBJQAAAAAAAAF5AAAAAAADAZ0AAAAAAAABQQAAAAAAAYqtAAAAAAAAAN0AAAAAAAAiLQAAAAAAAgJ5AAAAAAADQdEAAAAAAAIBaQAAAAAAAQF9AAAAAAAAAeUAAAAAAAEBcQAAAAAAAvqBAAAAAAAAAPUAAAAAAADCYQAAAAAAAwFJAAAAAAADAg0AAAAAAAMB3QAAAAAAALJ9AAAAAAADAgkAAAAAAAABEQAAAAAAAQGBAAAAAAABurkAAAAAAAMywQAAAAACAushAAAAAAABYuUAAAAAAAPSWQAAAAAAA9JZAAAAAAAD0lkAAAAAAAAAuQAAAAAAAIGtAAAAAAADAUkAAAAAAAABDQAAAAAAAQJpAAAAAAABn40AAAAAAgLDJQAAAAADAPOFAAAAAAMA84UAAAAAAAKjfQAAAAAAAIINAAAAAAABAWUAAAAAAAAA0QAAAAAAAwGdAAAAAAAAgcUAAAAAAAJqvQAAAAAAA0HxAAAAAAAB8lUAAAAAAAEBqQAAAAAAAcHNAAAAAAFDb90AAAAAAAABpQAAAAAAAQI5AAAAAAAAAdEAAAAAAACCAQAAAAAAAgFdAAAAAAABkkEAAAAAAAIBLQAAAAAAAYGVAAAAAAMCf3kAAAAAAAMBjQAAAAAAAwIxAAAAAAADgYEAAAAAAAAAAAAAAAAAA8HlAAAAAAAAAWUAAAAAAAEBlQAAAAAAAADdAAAAAAADAV0AAAAAAAAA1QAAAAAAAADlAAAAAAACasEAAAAAAAABpQAAAAAAAADlAAAAAAADgekAAAAAAAAA4QAAAAAAAc79AAAAAAAAAOkAAAAAAAMBSQAAAAAAAADlAAAAAAAAAokAAAAAAAEa2QAAAAAAAADBAAAAAAABEu0AAAAAAQADxQAAAAAAAwFJAAAAAAACAakAAAAAAAIBpQAAAAAAAQH9AAAAAAAD/skAAAAAAAMBSQAAAAAAAAEpAAAAAAAClxEAAAAAAAIBbQAAAAACAh9hAAAAAAAAco0AAAAAAAEBiQAAAAAAARKZAAAAAAAAANkAAAAAAAOBqQAAAAAAAgEtAAAAAAAAAYEAAAAAAAAiFQAAAAAAAAFJAAAAAAAAAW0AAAAAAAIBBQAAAAAAAQGVAAAAAAABAkEAAAAAAOIICQQAAAAAAsJVAAAAAAAAASUAAAAAAAJCFQAAAAAAAADVAAAAAAAD4kEAAAAAAAMBXQAAAAAAAAAAAAAAAAABAVUAAAAAAAEiuQAAAAAAAgGNAAAAAAABgcUAAAAAAAMBiQAAAAAAAgGBAAAAAAAAgZUAAAAAAAIBRQAAAAAAAAAAAAAAAAAAAXEAAAAAAAIBVQAAAAAAAgEBAAAAAAACARUAAAAAAAABWQAAAAAAAAD5AAAAAAAAAQEAAAAAAALCjQAAAAAAAAAAAAAAAAABAakAAAAAAALm9QAAAAAAAgFFAAAAAAAAAVEAAAAAAAMBUQAAAAAAAWKZAAAAAAAAyvUAAAAAAAFBxQAAAAABgcudAAAAAAAAASkAAAAAAAHiTQAAAAAAAgEdAAAAAAADgakAAAAAAAA22QAAAAAAAQHdAAAAAAACAZ0AAAAAAADCRQAAAAAAA8HJAAAAAAAAAfUAAAAAAAOSbQAAAAAAAAKJAAAAAAAAAVkAAAAAAAACnQAAAAAAAAD5AAAAAAABgc0AAAAAAACBiQAAAAAAAwFlAAAAAAABQdUAAAAAAAIBBQAAAAAAAAFVAAAAAAACga0AAAAAAAMBeQAAAAAAAwF5AAAAAAAAAWUAAAAAAAEBRQAAAAAAAADpAAAAAAACCoUAAAAAAAIBMQAAAAAAAgExAAAAAAAAAN0AAAAAAAABZQAAAAAD4IABBAAAAAADAYkAAAAAAAAA0QAAAAAAAAIlAAAAAAAAASUAAAAAAAABDQAAAAAAAAElAAAAAAAAAPEAAAAAAAIBcQAAAAAAAAFRAAAAAAABjtkAAAAAAAEBVQAAAAAAArr9AAAAAAACARkAAAAAAAABCQAAAAAAAirtAAAAAAEC24UAAAAAAYJPmQAAAAAAAsq5AAAAAAICi3EAAAAAAAABEQAAAAAAAwGNAAAAAAABQeEAAAAAAAABCQAAAAABgieBAAAAAAAAepEAAAAAAAABWQAAAAAAAsHhAAAAAAAAwhkAAAAAAAMB3QAAAAAAAwIJAAAAAAAAANEAAAAAAAABAQAAAAAAAEHRAAAAAAADAYkAAAAAAAIBHQAAAAAAAQ7VAAAAAAABAYEAAAAAAAMByQAAAAAAA4JBAAAAAAAAAWUAAAAAAACyYQAAAAAAAAG9AAAAAAAB6sUAAAAAAAGigQAAAAAAAAGZAAAAAAAAAPEAAAAAAANiyQAAAAAAAACRAAAAAAAD7sEAAAAAAAAA+QAAAAAAAgEZAAAAAAAC0sUAAAAAAAIBfQAAAAAAAwGJAAAAAAAAYlUAAAAAAAAAoQAAAAAAAQGBAAAAAAAAAKEAAAAAAAAA/QAAAAAAAFJtAAAAAAAAAMUAAAAAAAIBEQAAAAAAAADJAAAAAAACIw0AAAAAAAAA0QAAAAAAAEKBAAAAAAAAAMUAAAAAAAKB/QAAAAAAAADVAAAAAAACAQUAAAAAAAABeQAAAAAAAACRAAAAAAAAAMkAAAAAAAAAwQAAAAAAAADpAAAAAAAAAMEAAAAAAAABFQAAAAAAAADtAAAAAAADAUEAAAAAAAABHQAAAAAAAMHVAAAAAAAAALEAAAAAAACSWQAAAAAAAAFNAAAAAAAAAQ0AAAAAAAMBiQAAAAAAAwGBAAAAAAACQikAAAAAAAABOQAAAAAAAyJdAAAAAAAAATEAAAAAAAIBDQAAAAAAAfJdAAAAAAABAUEAAAAAAAAA1QAAAAAAAUHZAAAAAAADAh0AAAAAAAABCQAAAAAAApbhAAAAAAABomUAAAAAAAABDQAAAAAAAADlAAAAAAADwhEAAAAAAAAA8QAAAAAAAkIFAAAAAAABwgUAAAAAAAAAAAAAAAAAAgEtAAAAAAACAREAAAAAAAAAkQAAAAAAAaJhAAAAAAAAAQUAAAAAAAAAqQAAAAAAAgExAAAAAAAAASUAAAAAAAAAAAAAAAAAAAH9AAAAAAAAAT0AAAAAAAMBWQAAAAAAAADZAAAAAAACQmkAAAAAAwAPcQAAAAAAAAAAAAAAAAAD4pkAAAAAAAIBAQAAAAAAAkbdAAAAAAAAATUAAAAAAgP/RQAAAAAAAQHVAAAAAAABgnEAAAAAAgMLnQAAAAAAAgFFAAAAAAAAASUAAAAAAAMB8QAAAAAAAAHlAAAAAAFBx9EAAAAAAAEBZQAAAAAAAgE1AAAAAAAAAR0AAAAAAACCMQAAAAAAg+vNAAAAAAADEmUAAAAAAAIBRQAAAAAAAQF1AAAAAAAAALkAAAAAAAABEQAAAAAAAADNAAAAAAADskEAAAAAAAIBmQAAAAAAAAE1AAAAAAADioUAAAAAAAABfQAAAAAAA4GBAAAAAAAAAM0AAAAAAANawQAAAAAAAGIVAAAAAAACAR0AAAAAAAAAkQAAAAAAAgGFAAAAAAAAAekAAAAAAANCTQAAAAAAA8HNAAAAAAABAVUAAAAAAAOBvQAAAAAAAADRAAAAAAADAYkAAAAAAAIBDQAAAAAAAQGVAAAAAAAAALkAAAAAAAAA0QAAAAAAAYGNAAAAAAACAbUAAAAAAABiVQAAAAAAAAFlAAAAAAAAAaUAAAAAAAABAQAAAAAAAgFFAAAAAAADAfEAAAAAAAFB0QAAAAAAAACRAAAAAAAAAT0AAAAAAAABJQAAAAAAA4I9AAAAAAADYikAAAAAAAIBUQAAAAAAAgFxAAAAAAABwl0AAAAAAAEBfQAAAAAAAwIJAAAAAAAAAMUAAAAAAABiLQAAAAAAAQGdAAAAAAADuoUAAAAAAAABpQAAAAAAAAD9AAAAAAAAAT0AAAAAAAKBjQAAAAAAAwFtAAAAAAAAAMkAAAAAAAABHQAAAAAAAQFFAAAAAAIDZ4UAAAAAAAGCvQAAAAACAO8hAAAAAAACat0AAAAAAAIBLQAAAAACAbsFAAAAAAACAeEAAAAAAAIBZQAAAAAAAAEFAAAAAAIBV1UAAAAAAAEBgQAAAAAAAVJtAAAAAAACclEAAAAAAABq8QAAAAAAANJBAAAAAAAAAWUAAAAAAALCtQAAAAAAAAF5AAAAAAAAANUAAAAAAAMBTQAAAAAAAAFlAAAAAAABAhUAAAAAAgC7SQAAAAAAAADlAAAAAAAAAQEAAAAAAAIBDQAAAAAAAAAAAAAAAAACAUkAAAAAAAIBFQAAAAAAAgEVAAAAAAAAepEAAAAAAAAAkQAAAAAAAAGlAAAAAAADgYUAAAAAAAABJQAAAAAAAAE1AAAAAAIA0ykAAAAAAAABhQAAAAAAAoG1AAAAAAACgbkAAAAAAAIBLQAAAAAAAADpAAAAAAABAWkAAAAAAAMykQAAAAAAAwHtAAAAAAAAAREAAAAAAAABZQAAAAAAAwFVAAAAAAAAANEAAAAAAAJrAQAAAAAAANelAAAAAAOD44UAAAAAAoMPlQAAAAAAAB7hAAAAAAICCw0AAAAAAAABTQAAAAABg1eFAAAAAAABAYEAAAAAAAPCZQAAAAAAAgEZAAAAAAAAASUAAAAAAAD6hQAAAAAAAqIlAAAAAAADAYkAAAAAAgADCQAAAAAAAEItAAAAAAAAATUAAAAAAQPPQQAAAAAAAcHhAAAAAAAAASUAAAAAAAIBiQAAAAAAAADlAAAAAAAAAM0AAAAAAAAA9QAAAAAAAAElAAAAAAAAAAAAAAAAAAAAqQAAAAAAAobdAAAAAAICBzkAAAAAAlDQRQQAAAAAAgFVAAAAAAAAANUAAAAAAAIBHQAAAAAAAwFhAAAAAAADwr0AAAAAAAGB6QAAAAAAAACxAAAAAAAAsoEAAAAAAALSTQAAAAAAAIHBAAAAAAAAANEAAAAAAAABOQAAAAAAAcJtAAAAAAACkkEAAAAAAAAAAAAAAAAAAwFlAAAAAAAAAKEAAAAAAAIBNQAAAAAAAAFlAAAAAAAAAW0AAAAAAAMBSQAAAAAAAACxAAAAAAADAX0AAAAAAAOBlQAAAAAAAACpAAAAAAACAQUAAAAAAACCVQAAAAAAACIBAAAAAAADAckAAAAAAAABQQAAAAAAAAChAAAAAAACQcEAAAAAAABinQAAAAAAA5KFAAAAAAADgZUAAAAAAAOBqQAAAAAAAAE5AAAAAAABgY0AAAAAAAABOQAAAAAAAMIRAAAAAAADTsUAAAAAAAIBKQAAAAAAAwFxAAAAAAAAAJEAAAAAAAIB0QAAAAAAAps1AAAAAAAAAT0AAAAAAADiaQAAAAAAAYGRAAAAAAIAGx0AAAAAAAMByQAAAAAAAAFNAAAAAAADAfEAAAAAAAPB3QAAAAAAAgE9AAAAAAAAAPkAAAAAAAIBRQAAAAAAAgEBAAAAAAAD59UAAAAAAAIBAQAAAAAAA4GpAAAAAAACAf0AAAAAAAAAkQAAAAAAAwHNAAAAAAACP4kAAAAAAAMiJQAAAAAAAGJVAAAAAAABAXEAAAAAAABCOQAAAAABQqPdAAAAAAAAAT0AAAAAAAAAmQAAAAAAAYHFAAAAAAACGpkAAAAAAAABZQAAAAAAAAFRAAAAAAADAikAAAAAAAABdQAAAAAAAAGxAAAAAAAAATEAAAAAAAAAwQAAAAAAAAEBAAAAAAABAVkAAAAAAAAAsQAAAAAAAADxAAAAAAABAU0AAAAAAALCJQAAAAAAAgEVAAAAAAAAAKkAAAAAAAKBxQAAAAAAAgFtAAAAAAAAASUAAAAAAAAB0QAAAAAAAAEFAAAAAAJgIDEEAAAAAAABgQAAAAAAAAEJAAAAAAACASUAAAAAAAIBDQAAAAAAAADZAAAAAAACoqEAAAAAAbAkZQQAAAAAA4+dAAAAAAEDM4UAAAAAAACB1QAAAAAAA4GlAAAAAAADAkkAAAAAAAOBgQAAAAAAAYI5AAAAAAACASUAAAAAAAAAsQAAAAAAAwFBAAAAAAACAUEAAAAAAALiFQAAAAAAAYqFAAAAAAACY1kAAAAAAACByQAAAAAAAQF1AAAAAAACAXEAAAAAAwIjmQAAAAAAAsJ1AAAAAAAAAJEAAAAAAAHSjQAAAAAAA5KBAAAAAAAAAMEAAAAAAAOCFQAAAAAAAAH9AAAAAAGA740AAAAAAAPB2QAAAAAAAYGNAAAAAAACwj0AAAAAAAMBZQAAAAAAAwGRAAAAAAAAATkAAAAAAAIBlQAAAAAAAAC5AAAAAAABAX0AAAAAA4OnuQAAAAAAAADhAAAAAAACAkUAAAAAAAMBiQAAAAAAAXJtAAAAAAACweUAAAAAAAAA5QAAAAAAAaKpAAAAAAACAdkAAAAAAAIBKQAAAAAAAUHBAAAAAAAAAU0AAAAAAAABAQAAAAAAAAC5AAAAAAADgZEAAAAAAAABNQAAAAAAAMIFAAAAAAAAAMUAAAAAAwLcCQQAAAAAAAE5AAAAAAAAdsUAAAAAAUKv3QAAAAAAAwGJAAAAAAABAZ0AAAAAAAAAkQAAAAAAAgGVAAAAAAACIo0AAAAAAAEBQQAAAAAAAADZAAAAAAAAYikAAAAAAAEBeQAAAAAAAAGJAAAAAAADMkEAAAAAAAAA7QAAAAAAAWKFAAAAAAAAYlUAAAAAAAEBqQAAAAAAAgEVAAAAAAAAAXkAAAAAAAAAuQAAAAAAAADFAAAAAAAAAJEAAAAAAAOBpQAAAAAAAQH9AAAAAAAAAVEAAAAAAAOSjQAAAAAAAgGJAAAAAAAAAPEAAAAAAALBxQAAAAAAAAD5AAAAAAABwcEAAAAAAAJCPQAAAAAAAwGdAAAAAAAAAWUAAAAAAAGBgQAAAAAAAQGlAAAAAAABAVEAAAAAAAAA5QAAAAACAxMtAAAAAAACAcUAAAAAAAAAqQAAAAAAAAFVAAAAAAACAY0AAAAAAAIBXQAAAAAAAADVAAAAAAAAAR0AAAAAAACBsQAAAAAAAgGNAAAAAAAAAVEAAAAAAAIBBQAAAAAAAwIJAAAAAAABgYEAAAAAAAAyjQAAAAAAAADlAAAAAAACAUEAAAAAAAHBxQAAAAAAA4GRAAAAAAABAVUAAAAAAAAAkQAAAAAAAGJ5AAAAAAAAAPEAAAAAAAELBQAAAAAAAAEZAAAAAAACAbkAAAAAAANS0QAAAAAAAAE1AAAAAAACASkAAAAAAAAAuQAAAAAAA4GRAAAAAAACAa0AAAAAAAMBUQAAAAAAAADBAAAAAAAAAJEAAAAAAAABKQAAAAAAAADZAAAAAAABwgEAAAAAAAABFQAAAAACAL8FAAAAAAAAAaUAAAAAAAIBLQAAAAAAAQHpAAAAAAAAgYUAAAAAAAABFQAAAAADg+/JAAAAAAAAAT0AAAAAAAEBYQAAAAAAAgEJAAAAAAAD4hUAAAAAAAEiHQAAAAAAAjqJAAAAAAACgg0AAAAAAAABpQAAAAACAh8NAAAAAAADMo0AAAAAAAGyoQAAAAAAAgFlAAAAAAACATEAAAAAAAGBqQAAAAAAAQGNAAAAAAAAAOkAAAAAAAIBjQAAAAAAAgEJAAAAAAAAgYEAAAAAAAAAuQAAAAAAAgENAAAAAAACgYUAAAAAAALScQAAAAAAAQFVAAAAAAADAbEAAAAAAAABZQAAAAAAAADRAAAAAAADgYkAAAAAAADCRQAAAAAAAwHJAAAAAAABAmkAAAAAAABiJQAAAAAAAAFlAAAAAAACAVkAAAAAAAABEQAAAAAAAsrNAAAAAAACogEAAAAAAANB7QAAAAAAAaIlAAAAAAAAAMkAAAAAAALyWQAAAAAAAwFdAAAAAAABAVkAAAAAAAMBUQAAAAAAAoGRAAAAAAACAW0AAAAAAAEBgQAAAAAAAACpAAAAAAAAga0AAAAAAAEBWQAAAAAAAYGhAAAAAAAAASkAAAAAAAGiQQAAAAAAAwHVAAAAAAAAAM0AAAAAAAJiBQAAAAAAAcHBAAAAAAACAcUAAAAAAACChQAAAAAAAgEBAAAAAAAAAT0AAAAAAAECvQAAAAAAAQIRAAAAAAACgY0AAAAAAAABPQAAAAAAAEHZAAAAAAACJtUAAAAAAANSXQAAAAAAAADlAAAAAAAAAJEAAAAAAAABbQAAAAAAAwFZAAAAAAMD43EAAAAAAADSXQAAAAAAAAEhAAAAAAABAf0AAAAAAAMBdQAAAAAAAaIFAAAAAAACuwkAAAAAAANB0QAAAAACAFdZAAAAAAAAAPkAAAAAAAMBRQAAAAAAAAF5AAAAAAABAYUAAAAAAABB0QAAAAAAAEHRAAAAAAAAsqUAAAAAAACBnQAAAAAAAKIdAAAAAAACAa0AAAAAAACBtQAAAAAAAYIVAAAAAAABAZkAAAAAAAFSfQAAAAAAAAEpAAAAAAADiukAAAAAAAICBQAAAAAAAAGlAAAAAAABQvkAAAAAAACB0QAAAAAAAIGZAAAAAAABAUEAAAAAAQFzeQAAAAAAA4GZAAAAAAAAAgEAAAAAAAIBbQAAAAACg9uZAAAAAAAAAdEAAAAAAALiGQAAAAACQgy9BAAAAAAAIhkAAAAAAADBxQAAAAAAAACxAAAAAANAe9UAAAAAAAABPQAAAAAAAoIlAAAAAAABSpkAAAAAAAIBGQAAAAAAAQbNAAAAAAAAgckAAAAAAAAB5QAAAAAAAACpAAAAAAAA21kAAAAAAgAHQQAAAAAAAMJFAAAAAAAB8lEAAAAAAAIBGQAAAAAAAAElAAAAAAMB58EAAAAAAQILrQAAAAAAAwGxAAAAAAAAASEAAAAAAAAA1QAAAAAAAAC5AAAAAAACATkAAAAAAAFnIQAAAAAAARstAAAAAAABgYEAAAAAAAPyQQAAAAAAAiJ5AAAAAAABAb0AAAAAAAAiLQAAAAAAAAGdAAAAAAAAANEAAAAAAAIBCQAAAAAAAgFVAAAAAAABIi0AAAAAAAIBBQAAAAAAAADlAAAAAAAAAPEAAAAAAAABpQAAAAAAAUIRAAAAAAABAUEAAAAAAAPa0QAAAAAAAAEBAAAAAAAAwgUAAAAAAAIBBQAAAAAAAoHtAAAAAAAAAPUAAAAAAAIBGQAAAAAAAADJAAAAAAADAf0AAAAAAAIBFQAAAAAAAQG9AAAAAAABAj0AAAAAAAABBQAAAAAAAUHVAAAAAAADAYkAAAAAAAAAuQAAAAAAAAFtAAAAAAACgZEAAAAAAAICBQAAAAAAAAIlAAAAAAADEk0AAAAAAAABIQAAAAAAAGIBAAAAAAACAgkAAAAAAAMiHQAAAAAAAgEpAAAAAAAAARUAAAAAAACCCQAAAAAAAIGJAAAAAAADgdUAAAAAAAMBgQAAAAAAAgEJAAAAAAAAAJkAAAAAAAIBrQAAAAAAAAJ9AAAAAAAAAU0AAAAAAAIBBQAAAAAAAqsRAAAAAAACAXUAAAAAAALrIQAAAAAAAAHhAAAAAAAAgi0AAAAAAAMBSQAAAAAAAmI9AAAAAAAAAVEAAAAAAAIBbQAAAAAAAgFVAAAAAAAAAYEAAAAAAANzCQAAAAAAAUHZAAAAAAAAqp0AAAAAAAIBFQAAAAAAAoJRAAAAAANDB8EAAAAAAAIBFQAAAAAAAgEtAAAAAAABkoEAAAAAAAGSgQAAAAAAAgEZAAAAAAABgZUAAAAAA0PH9QAAAAAAAQHVAAAAAAADHAUEAAAAAAABJQAAAAAAAAElAAAAAAAAATkAAAAAAAHakQAAAAAAAAGdAAAAAAABwckAAAAAAAPiDQAAAAAAAQIVAAAAAAAAAZEAAAAAAAABZQAAAAAAAAElAAAAAAABMlkAAAAAAAIBOQAAAAAAA6qJAAAAAAAAAR0AAAAAAALB5QAAAAAAAAEtAAAAAAACAUUAAAAAAAAB9QAAAAAAAEHBAAAAAAADBwEAAAAAAAABUQAAAAAAA8HtAAAAAAACAYEAAAAAAgJLQQAAAAAAAAGlAAAAAAAAosEAAAAAAAAA1QAAAAAAAAF5AAAAAAABAXEAAAAAAAAAkQAAAAAAAAEJAAAAAAAAASEAAAAAAAPB6QAAAAAAA4LZAAAAAAADQgUAAAAAAAABCQAAAAAAAwFdAAAAAAAAAWUAAAAAAACiAQAAAAAAACItAAAAAAABAUEAAAAAAAIiCQAAAAAAAgFFAAAAAAAAANEAAAAAAAIijQAAAAAAAQIFAAAAAAADQdUAAAAAAAIBWQAAAAAAAgE9AAAAAAABAjEAAAAAAAABKQAAAAAAAADRAAAAAAAAAPkAAAAAAABazQAAAAAAAgEJAAAAAAAAAc0AAAAAAAABOQAAAAAAAAENAAAAAAAAAWUAAAAAAAIBFQAAAAAAAgFRAAAAAAAAAMUAAAAAAAEBeQAAAAAAAAFBAAAAAAAAAWkAAAAAAAIBDQAAAAAAAADxAAAAAAAAAP0AAAAAAAIBPQAAAAAAAwF9AAAAAAAAAQUAAAAAAAAAsQAAAAAAAQG9AAAAAAADL0kAAAAAAAFB0QAAAAAAAAE1AAAAAAACASkAAAAAAAABGQAAAAAAAADlAAAAAAAAAOkAAAAAAAEBcQAAAAAAAWLRAAAAAAADGrkAAAAAAAAA+QAAAAAAAACZAAAAAAADckEAAAAAAAAAwQAAAAAAAmIlAAAAAAACQckAAAAAAANO2QAAAAAAAAGRAAAAAAAAASUAAAAAAAMBfQAAAAAAAIHVAAAAAAADAXkAAAAAAAABbQAAAAAAAQFBAAAAAAAAAkUAAAAAAAMBZQAAAAAAAADhAAAAAAAAAOUAAAAAAAEBaQAAAAAAAUJBAAAAAAABweEAAAAAAAEBaQAAAAACAUcBAAAAAAAAAdUAAAAAAAAAuQAAAAAAAQHtAAAAAAACAckAAAAAAAIBRQAAAAAAAUHpAAAAAAABAUEAAAAAAAABZQAAAAAAALJRAAAAAAADAV0AAAAAAAABWQAAAAAAAbLRAAAAAAAAAZ0AAAAAAAJiAQAAAAAAAAFFAAAAAAAAASkAAAAAAALiFQAAAAAAAIH1AAAAAAABYtUAAAAAAAABAQAAAAAAAgEtAAAAAAABgbkAAAAAAAAA4QAAAAAAAbqNAAAAAAABgakAAAAAAAIBDQAAAAAAAACpAAAAAAAA2pUAAAAAAAKBmQAAAAAAA1cFA",
          "dtype": "f8"
         },
         "yaxis": "y2"
        },
        {
         "mode": "markers",
         "name": "Avg Precipitation",
         "type": "scatter",
         "x": {
          "bdata": "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",
          "dtype": "f8"
         },
         "xaxis": "x3",
         "y": {
          "bdata": "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",
          "dtype": "f8"
         },
         "yaxis": "y3"
        }
       ],
       "layout": {
        "annotations": [
         {
          "font": {
           "size": 16
          },
          "showarrow": false,
          "text": "Plot 1",
          "x": 0.14444444444444446,
          "xanchor": "center",
          "xref": "paper",
          "y": 1,
          "yanchor": "bottom",
          "yref": "paper"
         },
         {
          "font": {
           "size": 16
          },
          "showarrow": false,
          "text": "Plot 2",
          "x": 0.5,
          "xanchor": "center",
          "xref": "paper",
          "y": 1,
          "yanchor": "bottom",
          "yref": "paper"
         },
         {
          "font": {
           "size": 16
          },
          "showarrow": false,
          "text": "Plot 3",
          "x": 0.8555555555555556,
          "xanchor": "center",
          "xref": "paper",
          "y": 1,
          "yanchor": "bottom",
          "yref": "paper"
         }
        ],
        "height": 600,
        "template": {
         "data": {
          "bar": [
           {
            "error_x": {
             "color": "#2a3f5f"
            },
            "error_y": {
             "color": "#2a3f5f"
            },
            "marker": {
             "line": {
              "color": "#E5ECF6",
              "width": 0.5
             },
             "pattern": {
              "fillmode": "overlay",
              "size": 10,
              "solidity": 0.2
             }
            },
            "type": "bar"
           }
          ],
          "barpolar": [
           {
            "marker": {
             "line": {
              "color": "#E5ECF6",
              "width": 0.5
             },
             "pattern": {
              "fillmode": "overlay",
              "size": 10,
              "solidity": 0.2
             }
            },
            "type": "barpolar"
           }
          ],
          "carpet": [
           {
            "aaxis": {
             "endlinecolor": "#2a3f5f",
             "gridcolor": "white",
             "linecolor": "white",
             "minorgridcolor": "white",
             "startlinecolor": "#2a3f5f"
            },
            "baxis": {
             "endlinecolor": "#2a3f5f",
             "gridcolor": "white",
             "linecolor": "white",
             "minorgridcolor": "white",
             "startlinecolor": "#2a3f5f"
            },
            "type": "carpet"
           }
          ],
          "choropleth": [
           {
            "colorbar": {
             "outlinewidth": 0,
             "ticks": ""
            },
            "type": "choropleth"
           }
          ],
          "contour": [
           {
            "colorbar": {
             "outlinewidth": 0,
             "ticks": ""
            },
            "colorscale": [
             [
              0,
              "#0d0887"
             ],
             [
              0.1111111111111111,
              "#46039f"
             ],
             [
              0.2222222222222222,
              "#7201a8"
             ],
             [
              0.3333333333333333,
              "#9c179e"
             ],
             [
              0.4444444444444444,
              "#bd3786"
             ],
             [
              0.5555555555555556,
              "#d8576b"
             ],
             [
              0.6666666666666666,
              "#ed7953"
             ],
             [
              0.7777777777777778,
              "#fb9f3a"
             ],
             [
              0.8888888888888888,
              "#fdca26"
             ],
             [
              1,
              "#f0f921"
             ]
            ],
            "type": "contour"
           }
          ],
          "contourcarpet": [
           {
            "colorbar": {
             "outlinewidth": 0,
             "ticks": ""
            },
            "type": "contourcarpet"
           }
          ],
          "heatmap": [
           {
            "colorbar": {
             "outlinewidth": 0,
             "ticks": ""
            },
            "colorscale": [
             [
              0,
              "#0d0887"
             ],
             [
              0.1111111111111111,
              "#46039f"
             ],
             [
              0.2222222222222222,
              "#7201a8"
             ],
             [
              0.3333333333333333,
              "#9c179e"
             ],
             [
              0.4444444444444444,
              "#bd3786"
             ],
             [
              0.5555555555555556,
              "#d8576b"
             ],
             [
              0.6666666666666666,
              "#ed7953"
             ],
             [
              0.7777777777777778,
              "#fb9f3a"
             ],
             [
              0.8888888888888888,
              "#fdca26"
             ],
             [
              1,
              "#f0f921"
             ]
            ],
            "type": "heatmap"
           }
          ],
          "histogram": [
           {
            "marker": {
             "pattern": {
              "fillmode": "overlay",
              "size": 10,
              "solidity": 0.2
             }
            },
            "type": "histogram"
           }
          ],
          "histogram2d": [
           {
            "colorbar": {
             "outlinewidth": 0,
             "ticks": ""
            },
            "colorscale": [
             [
              0,
              "#0d0887"
             ],
             [
              0.1111111111111111,
              "#46039f"
             ],
             [
              0.2222222222222222,
              "#7201a8"
             ],
             [
              0.3333333333333333,
              "#9c179e"
             ],
             [
              0.4444444444444444,
              "#bd3786"
             ],
             [
              0.5555555555555556,
              "#d8576b"
             ],
             [
              0.6666666666666666,
              "#ed7953"
             ],
             [
              0.7777777777777778,
              "#fb9f3a"
             ],
             [
              0.8888888888888888,
              "#fdca26"
             ],
             [
              1,
              "#f0f921"
             ]
            ],
            "type": "histogram2d"
           }
          ],
          "histogram2dcontour": [
           {
            "colorbar": {
             "outlinewidth": 0,
             "ticks": ""
            },
            "colorscale": [
             [
              0,
              "#0d0887"
             ],
             [
              0.1111111111111111,
              "#46039f"
             ],
             [
              0.2222222222222222,
              "#7201a8"
             ],
             [
              0.3333333333333333,
              "#9c179e"
             ],
             [
              0.4444444444444444,
              "#bd3786"
             ],
             [
              0.5555555555555556,
              "#d8576b"
             ],
             [
              0.6666666666666666,
              "#ed7953"
             ],
             [
              0.7777777777777778,
              "#fb9f3a"
             ],
             [
              0.8888888888888888,
              "#fdca26"
             ],
             [
              1,
              "#f0f921"
             ]
            ],
            "type": "histogram2dcontour"
           }
          ],
          "mesh3d": [
           {
            "colorbar": {
             "outlinewidth": 0,
             "ticks": ""
            },
            "type": "mesh3d"
           }
          ],
          "parcoords": [
           {
            "line": {
             "colorbar": {
              "outlinewidth": 0,
              "ticks": ""
             }
            },
            "type": "parcoords"
           }
          ],
          "pie": [
           {
            "automargin": true,
            "type": "pie"
           }
          ],
          "scatter": [
           {
            "fillpattern": {
             "fillmode": "overlay",
             "size": 10,
             "solidity": 0.2
            },
            "type": "scatter"
           }
          ],
          "scatter3d": [
           {
            "line": {
             "colorbar": {
              "outlinewidth": 0,
              "ticks": ""
             }
            },
            "marker": {
             "colorbar": {
              "outlinewidth": 0,
              "ticks": ""
             }
            },
            "type": "scatter3d"
           }
          ],
          "scattercarpet": [
           {
            "marker": {
             "colorbar": {
              "outlinewidth": 0,
              "ticks": ""
             }
            },
            "type": "scattercarpet"
           }
          ],
          "scattergeo": [
           {
            "marker": {
             "colorbar": {
              "outlinewidth": 0,
              "ticks": ""
             }
            },
            "type": "scattergeo"
           }
          ],
          "scattergl": [
           {
            "marker": {
             "colorbar": {
              "outlinewidth": 0,
              "ticks": ""
             }
            },
            "type": "scattergl"
           }
          ],
          "scattermap": [
           {
            "marker": {
             "colorbar": {
              "outlinewidth": 0,
              "ticks": ""
             }
            },
            "type": "scattermap"
           }
          ],
          "scattermapbox": [
           {
            "marker": {
             "colorbar": {
              "outlinewidth": 0,
              "ticks": ""
             }
            },
            "type": "scattermapbox"
           }
          ],
          "scatterpolar": [
           {
            "marker": {
             "colorbar": {
              "outlinewidth": 0,
              "ticks": ""
             }
            },
            "type": "scatterpolar"
           }
          ],
          "scatterpolargl": [
           {
            "marker": {
             "colorbar": {
              "outlinewidth": 0,
              "ticks": ""
             }
            },
            "type": "scatterpolargl"
           }
          ],
          "scatterternary": [
           {
            "marker": {
             "colorbar": {
              "outlinewidth": 0,
              "ticks": ""
             }
            },
            "type": "scatterternary"
           }
          ],
          "surface": [
           {
            "colorbar": {
             "outlinewidth": 0,
             "ticks": ""
            },
            "colorscale": [
             [
              0,
              "#0d0887"
             ],
             [
              0.1111111111111111,
              "#46039f"
             ],
             [
              0.2222222222222222,
              "#7201a8"
             ],
             [
              0.3333333333333333,
              "#9c179e"
             ],
             [
              0.4444444444444444,
              "#bd3786"
             ],
             [
              0.5555555555555556,
              "#d8576b"
             ],
             [
              0.6666666666666666,
              "#ed7953"
             ],
             [
              0.7777777777777778,
              "#fb9f3a"
             ],
             [
              0.8888888888888888,
              "#fdca26"
             ],
             [
              1,
              "#f0f921"
             ]
            ],
            "type": "surface"
           }
          ],
          "table": [
           {
            "cells": {
             "fill": {
              "color": "#EBF0F8"
             },
             "line": {
              "color": "white"
             }
            },
            "header": {
             "fill": {
              "color": "#C8D4E3"
             },
             "line": {
              "color": "white"
             }
            },
            "type": "table"
           }
          ]
         },
         "layout": {
          "annotationdefaults": {
           "arrowcolor": "#2a3f5f",
           "arrowhead": 0,
           "arrowwidth": 1
          },
          "autotypenumbers": "strict",
          "coloraxis": {
           "colorbar": {
            "outlinewidth": 0,
            "ticks": ""
           }
          },
          "colorscale": {
           "diverging": [
            [
             0,
             "#8e0152"
            ],
            [
             0.1,
             "#c51b7d"
            ],
            [
             0.2,
             "#de77ae"
            ],
            [
             0.3,
             "#f1b6da"
            ],
            [
             0.4,
             "#fde0ef"
            ],
            [
             0.5,
             "#f7f7f7"
            ],
            [
             0.6,
             "#e6f5d0"
            ],
            [
             0.7,
             "#b8e186"
            ],
            [
             0.8,
             "#7fbc41"
            ],
            [
             0.9,
             "#4d9221"
            ],
            [
             1,
             "#276419"
            ]
           ],
           "sequential": [
            [
             0,
             "#0d0887"
            ],
            [
             0.1111111111111111,
             "#46039f"
            ],
            [
             0.2222222222222222,
             "#7201a8"
            ],
            [
             0.3333333333333333,
             "#9c179e"
            ],
            [
             0.4444444444444444,
             "#bd3786"
            ],
            [
             0.5555555555555556,
             "#d8576b"
            ],
            [
             0.6666666666666666,
             "#ed7953"
            ],
            [
             0.7777777777777778,
             "#fb9f3a"
            ],
            [
             0.8888888888888888,
             "#fdca26"
            ],
            [
             1,
             "#f0f921"
            ]
           ],
           "sequentialminus": [
            [
             0,
             "#0d0887"
            ],
            [
             0.1111111111111111,
             "#46039f"
            ],
            [
             0.2222222222222222,
             "#7201a8"
            ],
            [
             0.3333333333333333,
             "#9c179e"
            ],
            [
             0.4444444444444444,
             "#bd3786"
            ],
            [
             0.5555555555555556,
             "#d8576b"
            ],
            [
             0.6666666666666666,
             "#ed7953"
            ],
            [
             0.7777777777777778,
             "#fb9f3a"
            ],
            [
             0.8888888888888888,
             "#fdca26"
            ],
            [
             1,
             "#f0f921"
            ]
           ]
          },
          "colorway": [
           "#636efa",
           "#EF553B",
           "#00cc96",
           "#ab63fa",
           "#FFA15A",
           "#19d3f3",
           "#FF6692",
           "#B6E880",
           "#FF97FF",
           "#FECB52"
          ],
          "font": {
           "color": "#2a3f5f"
          },
          "geo": {
           "bgcolor": "white",
           "lakecolor": "white",
           "landcolor": "#E5ECF6",
           "showlakes": true,
           "showland": true,
           "subunitcolor": "white"
          },
          "hoverlabel": {
           "align": "left"
          },
          "hovermode": "closest",
          "mapbox": {
           "style": "light"
          },
          "paper_bgcolor": "white",
          "plot_bgcolor": "#E5ECF6",
          "polar": {
           "angularaxis": {
            "gridcolor": "white",
            "linecolor": "white",
            "ticks": ""
           },
           "bgcolor": "#E5ECF6",
           "radialaxis": {
            "gridcolor": "white",
            "linecolor": "white",
            "ticks": ""
           }
          },
          "scene": {
           "xaxis": {
            "backgroundcolor": "#E5ECF6",
            "gridcolor": "white",
            "gridwidth": 2,
            "linecolor": "white",
            "showbackground": true,
            "ticks": "",
            "zerolinecolor": "white"
           },
           "yaxis": {
            "backgroundcolor": "#E5ECF6",
            "gridcolor": "white",
            "gridwidth": 2,
            "linecolor": "white",
            "showbackground": true,
            "ticks": "",
            "zerolinecolor": "white"
           },
           "zaxis": {
            "backgroundcolor": "#E5ECF6",
            "gridcolor": "white",
            "gridwidth": 2,
            "linecolor": "white",
            "showbackground": true,
            "ticks": "",
            "zerolinecolor": "white"
           }
          },
          "shapedefaults": {
           "line": {
            "color": "#2a3f5f"
           }
          },
          "ternary": {
           "aaxis": {
            "gridcolor": "white",
            "linecolor": "white",
            "ticks": ""
           },
           "baxis": {
            "gridcolor": "white",
            "linecolor": "white",
            "ticks": ""
           },
           "bgcolor": "#E5ECF6",
           "caxis": {
            "gridcolor": "white",
            "linecolor": "white",
            "ticks": ""
           }
          },
          "title": {
           "x": 0.05
          },
          "xaxis": {
           "automargin": true,
           "gridcolor": "white",
           "linecolor": "white",
           "ticks": "",
           "title": {
            "standoff": 15
           },
           "zerolinecolor": "white",
           "zerolinewidth": 2
          },
          "yaxis": {
           "automargin": true,
           "gridcolor": "white",
           "linecolor": "white",
           "ticks": "",
           "title": {
            "standoff": 15
           },
           "zerolinecolor": "white",
           "zerolinewidth": 2
          }
         }
        },
        "title": {
         "text": "<b>Effect of Weather on the Area Affect by Wildfire</b>"
        },
        "width": 1000,
        "xaxis": {
         "anchor": "y",
         "domain": [
          0,
          0.2888888888888889
         ]
        },
        "xaxis2": {
         "anchor": "y2",
         "domain": [
          0.35555555555555557,
          0.6444444444444445
         ]
        },
        "xaxis3": {
         "anchor": "y3",
         "domain": [
          0.7111111111111111,
          1
         ]
        },
        "yaxis": {
         "anchor": "x",
         "domain": [
          0,
          1
         ]
        },
        "yaxis2": {
         "anchor": "x2",
         "domain": [
          0,
          1
         ]
        },
        "yaxis3": {
         "anchor": "x3",
         "domain": [
          0,
          1
         ]
        }
       }
      }
     },
     "metadata": {},
     "output_type": "display_data"
    }
   ],
   "source": [
    "# Map a function that returns a Feature (not a dictionary)\n",
    "def extract_ndvi(image):\n",
    "    mean_dict = image.reduceRegion(\n",
    "        reducer=ee.Reducer.mean(),\n",
    "        geometry=point,\n",
    "        scale=250\n",
    "    )\n",
    "    feature = ee.Feature(None, {\n",
    "        'NDVI': mean_dict.get('NDVI'),\n",
    "        'date': image.date().format('YYYY-MM-dd')\n",
    "    })\n",
    "    return feature\n",
    "for index in data.index:\n",
    "    try:\n",
    "        # Define your location\n",
    "        lat = data.loc[index,'incident_latitude'] # Latitude\n",
    "        long = data.loc[index,'incident_longitude'] \n",
    "        point = ee.Geometry.Point([long, lat])\n",
    "        start = data.loc[index,'incident_dateonly_created'] # Start date\n",
    "        try :\n",
    "            end = data.loc[index,'incident_dateonly_extinguished']\n",
    "        except:\n",
    "            end= date.today()\n",
    "\n",
    "        # Load MODIS NDVI ImageCollection\n",
    "        collection = ee.ImageCollection('MODIS/006/MOD13Q1') \\\n",
    "            .filterBounds(point) \\\n",
    "            .filterDate(start, end) \\\n",
    "            .select('NDVI')\n",
    "\n",
    "        # Apply map\n",
    "        ndvi_features = collection.map(extract_ndvi)\n",
    "\n",
    "        # Convert FeatureCollection to a list of dictionaries\n",
    "        ndvi_list = ndvi_features.aggregate_array('NDVI').getInfo()\n",
    "        data.loc[index,'avg_ndvi'] = np.mean(ndvi_list)\n",
    "    except:\n",
    "        print(f'The index that failed is {index}')"
   ]
  },
  {
   "cell_type": "code",
   "execution_count": null,
   "metadata": {},
   "outputs": [],
   "source": [
    "#Retrive the drought Index pdsi, spi30d\n",
    "def get_drought_index(latitude, longitude, start_date, end_date, drought_index_name='pdsi'):\n",
    "    point = ee.Geometry.Point(longitude, latitude)\n",
    "    drought = ee.ImageCollection('GRIDMET/DROUGHT') \\\n",
    "        .select(drought_index_name) \\\n",
    "        .filterDate(start_date, end_date)\n",
    "    ts = drought.getRegion(point, 1).getInfo()\n",
    "\n",
    "    if len(ts) > 1:\n",
    "        data = [item[4] for item in ts[1:]]\n",
    "        return data\n",
    "    else:\n",
    "        return None\n",
    "\n",
    "for index in data.index:\n",
    "    try:\n",
    "        latitude = data.loc[index,'incident_latitude'] # Latitude\n",
    "        longitude = data.loc[index,'incident_longitude'] \n",
    "        start_date = datetime(int(data.loc[index,'Year_Started']), 1, 1)\n",
    "        end_date = start_date + timedelta(days=30)\n",
    "        # Convert to string format for filtering\n",
    "        start_date = start_date.strftime('%Y-%m-%d')\n",
    "        end_date = end_date.strftime('%Y-%m-%d')\n",
    "        drought_index = 'pdsi'  # You can change this to other indices\n",
    "        drought_data = get_drought_index(latitude, longitude, start_date, end_date, drought_index)\n",
    "        data.loc[index,'avg_pdsi'] = np.mean(drought_data)\n",
    "        drought_index_spi = 'spi30d'\n",
    "        spi_data = get_drought_index(latitude, longitude, start_date, end_date, drought_index_spi)\n",
    "        data.loc[index,'avg_spi30d'] = np.mean(spi_data)\n",
    "    except:\n",
    "        print(f'The index that failed is {index}')"
   ]
  },
  {
   "cell_type": "code",
   "execution_count": null,
   "metadata": {},
   "outputs": [],
   "source": [
    "#Retrive NDVI value\n",
    "def get_current_ndvi(latitude, longitude,year):\n",
    "    point = ee.Geometry.Point([longitude, latitude])\n",
    "    \n",
    "    # Set time window: last 30 days\n",
    "    \n",
    "    # Set start date to 30 days before\n",
    "    start_date = datetime(int(year), 1, 1)\n",
    "    end_date = start_date + timedelta(days=30)\n",
    "    # Convert to string format for filtering\n",
    "    start_date = start_date.strftime('%Y-%m-%d')\n",
    "    end_date = end_date.strftime('%Y-%m-%d')\n",
    "    # Load and filter Sentinel-2 imagery\n",
    "    collection = ee.ImageCollection('COPERNICUS/S2_SR_HARMONIZED') \\\n",
    "        .filterBounds(point) \\\n",
    "        .filterDate(start_date, end_date) \\\n",
    "        .filter(ee.Filter.lt('CLOUDY_PIXEL_PERCENTAGE', 100)) \\\n",
    "        .sort('system:time_start', False)\n",
    "\n",
    "    # If the collection is empty, return None\n",
    "    if collection.size().getInfo() == 0:\n",
    "        print(\"No suitable Sentinel-2 image found for the given location and date range.\")\n",
    "        return None\n",
    "\n",
    "    # Compute NDVI\n",
    "    def add_ndvi(image):\n",
    "        ndvi = image.normalizedDifference(['B8', 'B4']).rename('NDVI')\n",
    "        return image.addBands(ndvi)\n",
    "\n",
    "    ndvi_collection = collection.map(add_ndvi)\n",
    "    latest_image = ndvi_collection.first()\n",
    "\n",
    "    # Get NDVI value at the point\n",
    "    ndvi_value = latest_image.select('NDVI').reduceRegion(\n",
    "        reducer=ee.Reducer.mean(),\n",
    "        geometry=point,\n",
    "        scale=10\n",
    "    ).get('NDVI')\n",
    "\n",
    "    return ee.Number(ndvi_value).getInfo()\n",
    "#data.index\n",
    "for index in data.index:\n",
    "    try:\n",
    "        lat = data.loc[index,'incident_latitude'] # Latitude\n",
    "        lon = data.loc[index,'incident_longitude']\n",
    "        ndvi = get_current_ndvi(lat, lon, data.loc[index,'Year_Started'])\n",
    "        data.loc[index,'ndvi'] = ndvi\n",
    "    except:\n",
    "        print(f'The index that failed is {index}')"
   ]
  },
  {
   "cell_type": "code",
   "execution_count": null,
   "metadata": {},
   "outputs": [],
   "source": [
    "nlcd_to_fuel = {\n",
    "    11: 'Non-burnable', 12: 'Non-burnable',\n",
    "    21: 'Urban', 22: 'Urban', 23: 'Urban', 24: 'Urban',\n",
    "    31: 'Barren',\n",
    "    41: 'Forest', 42: 'Forest', 43: 'Forest',\n",
    "    52: 'Shrubland',\n",
    "    71: 'Grassland', 81: 'Grassland',\n",
    "    82: 'Agriculture',\n",
    "    90: 'Wetland', 95: 'Wetland'\n",
    "}\n",
    "\n",
    "# Map to new column\n",
    "data['fuel_type'] = data['landcover'].map(nlcd_to_fuel)"
   ]
  },
  {
   "cell_type": "code",
   "execution_count": null,
   "metadata": {},
   "outputs": [],
   "source": [
    "cause_map = {\n",
    "    1: \"Natural\",\n",
    "    2: \"Equipment/vehicles\",\n",
    "    3: \"Smoking\",\n",
    "    4: \"Recreation/cultural activities\",\n",
    "    5: \"Debris/open burning\",\n",
    "    6: \"Railroad\",\n",
    "    7: \"Incendiary (unlawful)\",\n",
    "    8: \"Fire Play (minor)\",\n",
    "    9: \"Miscellaneous/other\",\n",
    "    10: \"Fireworks\",\n",
    "    11: \"Power generation/transmission\",\n",
    "    12: \"Structure\",\n",
    "    13: \"Ammunition/explosives\",\n",
    "    14: \"Unknown (Human)\",\n",
    "}\n",
    "\n",
    "\n",
    "# Map to new column\n",
    "data['cause_description'] = data['CAUSE'].map(cause_map).fillna('Unknown')"
   ]
  },
  {
   "cell_type": "code",
   "execution_count": null,
   "metadata": {},
   "outputs": [],
   "source": [
    "# Group and summarize\n",
    "fuel_stats = data.groupby('fuel_type')['incident_acres_burned'].mean().reset_index()\n",
    "\n",
    "# Sort for better readability\n",
    "fuel_stats = fuel_stats.sort_values(by='incident_acres_burned', ascending=False)\n",
    "\n",
    "# Plot\n",
    "plt.figure(figsize=(10, 6))\n",
    "sns.barplot(data=fuel_stats, x='fuel_type', y='incident_acres_burned', palette='viridis')\n",
    "plt.title('Average Acres Burned by Fuel Type')\n",
    "plt.xlabel('Fuel Type')\n",
    "plt.ylabel('Average Acres Burned')\n",
    "plt.xticks(rotation=45)\n",
    "plt.tight_layout()\n",
    "plt.show()"
   ]
  },
  {
   "cell_type": "code",
   "execution_count": null,
   "metadata": {},
   "outputs": [],
   "source": [
    "# Authenticate and initialize Earth Engine\n",
    "ee.Authenticate()\n",
    "ee.Initialize()\n",
    "\n",
    "# Prepare feature lists\n",
    "elevations, landcovers, aspects, slopes, ndmis,  = [], [], [], [], []\n",
    "\n",
    "# Datasets\n",
    "elevation_dataset = ee.Image('USGS/SRTMGL1_003')\n",
    "landcover_dataset = ee.Image('USGS/NLCD_RELEASES/2019_REL/NLCD/2019').select('landcover')\n",
    "terrain = ee.Terrain.products(elevation_dataset)\n",
    "\n",
    "# Utility to extract value\n",
    "def extract_mean_value(image, region, band, scale=30):\n",
    "    try:\n",
    "        sample = image.select(band).sample(region=region, scale=scale)\n",
    "        if sample.size().getInfo() > 0:\n",
    "            return sample.first().get(band).getInfo()\n",
    "    except Exception as e:\n",
    "        print(f\"Error extracting {band}: {e}\")\n",
    "    return None\n",
    "\n",
    "\n",
    "# Iterate through data\n",
    "for idx, row in data.iterrows():\n",
    "    lat, lon = row['incident_latitude'], row['incident_longitude']\n",
    "    point = ee.Geometry.Point([lon, lat])\n",
    "    buffered_point = point.buffer(30)\n",
    "\n",
    "    # Parse incident date\n",
    "    try:\n",
    "        fire_date = datetime.strptime(row['incident_dateonly_created'], '%Y-%m-%d')\n",
    "    except:\n",
    "        fire_date = datetime(2020, 6, 1)  # fallback if date parsing fails\n",
    "\n",
    "    year = fire_date.year\n",
    "    date_start = fire_date.strftime('%Y-%m-%d')\n",
    "    date_end = (fire_date.replace(month=fire_date.month % 12 + 1, day=1) if fire_date.month < 12 else fire_date.replace(year=year + 1, month=1, day=1)).strftime('%Y-%m-%d')\n",
    "\n",
    "    # Extract features\n",
    "    elevations.append(extract_mean_value(elevation_dataset, buffered_point, 'elevation'))\n",
    "    landcovers.append(extract_mean_value(landcover_dataset, buffered_point, 'landcover'))\n",
    "    aspects.append(extract_mean_value(terrain.select('aspect'), buffered_point, 'aspect'))\n",
    "    slopes.append(extract_mean_value(terrain.select('slope'), buffered_point, 'slope'))\n",
    "\n",
    "\n",
    "    # NDMI from Landsat 8\n",
    "    landsat = ee.ImageCollection(\"LANDSAT/LC08/C02/T1_L2\") \\\n",
    "                .filterBounds(point) \\\n",
    "                .filterDate(date_start, date_end) \\\n",
    "                .median()\n",
    "    ndmi_image = landsat.normalizedDifference(['SR_B5', 'SR_B6']).rename('NDMI')\n",
    "    ndmis.append(extract_mean_value(ndmi_image, buffered_point, 'NDMI'))\n",
    "\n",
    "\n",
    "# Attach results to DataFrame\n",
    "data['elevation'] = elevations\n",
    "data['landcover'] = landcovers\n",
    "data['aspect'] = aspects\n",
    "data['slope'] = slopes\n",
    "data['ndmi'] = ndmis\n",
    "\n",
    "# Export\n",
    "data.to_csv(\"WildFire_DataSet.csv\", index=False)\n",
    "print(\"Data enrichment completed and saved.\")"
   ]
  }
 ],
 "metadata": {
  "kernelspec": {
   "display_name": "base",
   "language": "python",
   "name": "python3"
  },
  "language_info": {
   "codemirror_mode": {
    "name": "ipython",
    "version": 3
   },
   "file_extension": ".py",
   "mimetype": "text/x-python",
   "name": "python",
   "nbconvert_exporter": "python",
   "pygments_lexer": "ipython3",
   "version": "3.12.7"
  }
 },
 "nbformat": 4,
 "nbformat_minor": 2
}
